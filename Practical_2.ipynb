{
 "cells": [
  {
   "cell_type": "markdown",
   "id": "d68c1dee",
   "metadata": {
    "id": "d68c1dee"
   },
   "source": [
    "# Practical_2: String and files"
   ]
  },
  {
   "cell_type": "markdown",
   "id": "bea983a3",
   "metadata": {
    "id": "bea983a3"
   },
   "source": [
    "---\n",
    "\n",
    "### Exercise 1:\n",
    "Create a string variable `text` and assign it the value `\"Python is amazing!\"`.\n",
    "\n",
    "```python\n",
    "# Exercise 1\n",
    "```\n",
    "\n",
    "---\n",
    "\n",
    "### Exercise 2:\n",
    "Find the length of the string `\"Hello, World!\"` and store it in a variable `length`.\n",
    "\n",
    "```python\n",
    "# Exercise 2\n",
    "```\n",
    "\n",
    "---\n",
    "\n",
    "### Exercise 3:\n",
    "Convert the string `\"python programming\"` to uppercase and store it in a variable `upper_text`.\n",
    "\n",
    "```python\n",
    "# Exercise 3\n",
    "```\n",
    "\n",
    "---\n",
    "\n",
    "### Exercise 4:\n",
    "Extract the first 5 characters from the string `\"Artificial Intelligence\"`.\n",
    "\n",
    "```python\n",
    "# Exercise 4\n",
    "```\n",
    "\n",
    "---\n",
    "\n",
    "### Exercise 5:\n",
    "Concatenate the strings `\"Hello\"` and `\"World\"` with a space in between.\n",
    "\n",
    "```python\n",
    "# Exercise 5\n",
    "```\n",
    "\n",
    "---\n",
    "\n",
    "### Exercise 6:\n",
    "Replace the word `\"dog\"` with `\"cat\"` in the string `\"The quick brown dog jumps over the lazy dog.\"`.\n",
    "\n",
    "```python\n",
    "# Exercise 6\n",
    "```\n",
    "\n",
    "---\n",
    "\n",
    "### Exercise 7:\n",
    "Split the string `\"apple,banana,orange\"` by commas and store the result in a list `fruits_list`.\n",
    "\n",
    "```python\n",
    "# Exercise 7\n",
    "```\n",
    "\n",
    "---\n",
    "\n",
    "### Exercise 8:\n",
    "Use string formatting to create the sentence `\"My name is Alice and I am 25 years old.\"`, where the name and age are variables.\n",
    "\n",
    "```python\n",
    "# Exercise 8\n",
    "```\n",
    "\n",
    "---\n",
    "\n",
    "### Exercise 9:\n",
    "Check if the string `\"python\"` is present in the sentence `\"I love python programming\"`.\n",
    "\n",
    "```python\n",
    "# Exercise 9\n",
    "```\n",
    "\n",
    "---\n",
    "\n",
    "### Exercise 10:\n",
    "Count the number of occurrences of the letter `\"e\"` in the string `\"Elephant is an elegant animal\"`.\n",
    "\n",
    "```python\n",
    "# Exercise 10\n",
    "```\n",
    "\n",
    "---\n",
    "\n",
    "### Exercise 11:\n",
    "Remove any leading and trailing spaces from the string `\"   Data Science   \"`.\n",
    "\n",
    "```python\n",
    "# Exercise 11\n",
    "```\n",
    "\n",
    "---\n",
    "\n",
    "### Exercise 12:\n",
    "Convert the string `\"100\"` into an integer and store it in a variable `int_value`.\n",
    "\n",
    "```python\n",
    "# Exercise 12\n",
    "```\n",
    "\n",
    "---\n",
    "\n",
    "### Exercise 13:\n",
    "Extract the substring `\"pro\"` from the string `\"programming\"`.\n",
    "\n",
    "```python\n",
    "# Exercise 13\n",
    "```\n",
    "\n",
    "---\n",
    "\n",
    "### Exercise 14:\n",
    "Check if the string `\"data\"` starts with `\"da\"` and ends with `\"ta\"`.\n",
    "\n",
    "```python\n",
    "# Exercise 14\n",
    "```\n",
    "\n",
    "---\n",
    "\n",
    "### Exercise 15:\n",
    "Reverse the string `\"machine learning\"` and store the result in `reversed_text`.\n",
    "\n",
    "```python\n",
    "# Exercise 15\n",
    "```\n",
    "\n",
    "---\n",
    "\n",
    "### Exercise 16:\n",
    "Convert the first letter of each word in the string `\"machine learning is fun\"` to uppercase.\n",
    "\n",
    "```python\n",
    "# Exercise 16\n",
    "```\n",
    "\n",
    "---\n",
    "\n",
    "### Exercise 17:\n",
    "Create a multiline string representing a poem and store it in a variable `poem`.\n",
    "\n",
    "```python\n",
    "# Exercise 17\n",
    "```\n",
    "\n",
    "---\n",
    "\n",
    "### Exercise 18:\n",
    "Write a string to a file named `\"output.txt\"`.\n",
    "\n",
    "```python\n",
    "# Exercise 18\n",
    "```\n",
    "\n",
    "---\n",
    "\n",
    "### Exercise 19:\n",
    "Read the contents of a file named `\"data.txt\"` and print it line by line.\n",
    "\n",
    "```python\n",
    "# Exercise 19\n",
    "```\n",
    "\n",
    "---\n",
    "\n",
    "### Exercise 20:\n",
    "Check if a file `\"example.txt\"` exists before opening it.\n",
    "\n",
    "```python\n",
    "# Exercise 20\n",
    "```\n",
    "\n",
    "---\n",
    "\n",
    "### Exercise 21:\n",
    "Append a new line `\"This is a new line\"` to an existing file `\"notes.txt\"`.\n",
    "\n",
    "```python\n",
    "# Exercise 21\n",
    "```\n",
    "\n",
    "---\n",
    "\n",
    "### Exercise 22:\n",
    "Read the contents of a file `\"log.txt\"` and store each line in a list `log_lines`.\n",
    "\n",
    "```python\n",
    "# Exercise 22\n",
    "```\n",
    "\n",
    "---\n",
    "\n",
    "### Exercise 23:\n",
    "Create a new file `\"report.txt\"` and write the string `\"Data analysis report\"` to it.\n",
    "\n",
    "```python\n",
    "# Exercise 23\n",
    "```\n",
    "\n",
    "---\n",
    "\n",
    "### Exercise 24:\n",
    "Replace the word `\"error\"` with `\"issue\"` in a file `\"log.txt\"`.\n",
    "\n",
    "```python\n",
    "# Exercise 24\n",
    "```\n",
    "\n",
    "---\n",
    "\n",
    "### Exercise 25:\n",
    "Count the number of words in a text file `\"document.txt\"`.\n",
    "\n",
    "```python\n",
    "# Exercise 25\n",
    "```\n",
    "\n",
    "---\n",
    "\n",
    "### Exercise 26:\n",
    "Write a Python script that reads a file `\"essay.txt\"` and prints the total number of lines, words, and characters.\n",
    "\n",
    "```python\n",
    "# Exercise 26\n",
    "```\n",
    "\n",
    "---\n",
    "\n",
    "### Exercise 27:\n",
    "Copy the contents of one file `\"source.txt\"` to another file `\"destination.txt\"`.\n",
    "\n",
    "```python\n",
    "# Exercise 27\n",
    "```\n",
    "\n",
    "---\n",
    "\n",
    "### Exercise 28:\n",
    "Write a Python function that takes a filename as input and returns the number of lines in the file.\n",
    "\n",
    "```python\n",
    "# Exercise 28\n",
    "```\n",
    "\n",
    "---\n",
    "\n",
    "### Exercise 29:\n",
    "Extract all the words from a text file `\"article.txt\"` that contain more than 5 characters.\n",
    "\n",
    "```python\n",
    "# Exercise 29\n",
    "```\n",
    "\n",
    "---\n",
    "\n",
    "### Exercise 30:\n",
    "Convert the contents of a file `\"notes.txt\"` to uppercase and save the result in another file `\"uppercase_notes.txt\"`.\n",
    "\n",
    "```python\n",
    "# Exercise 30\n",
    "```\n",
    "\n",
    "---\n",
    "\n",
    "### Exercise 31:\n",
    "Write a Python script that reads a file and removes all empty lines.\n",
    "\n",
    "```python\n",
    "# Exercise 31\n",
    "```\n",
    "\n",
    "---\n",
    "\n",
    "### Exercise 32:\n",
    "Open a file `\"config.txt\"` in both read and write mode.\n",
    "\n",
    "```python\n",
    "# Exercise 32\n",
    "```\n",
    "\n",
    "---\n",
    "\n",
    "### Exercise 33:\n",
    "Write a Python function that reads a file and prints the longest line in the file.\n",
    "\n",
    "```python\n",
    "# Exercise 33\n",
    "```\n",
    "\n",
    "---\n",
    "\n",
    "### Exercise 34:\n",
    "Write a Python script to count the frequency of each letter in a text file `\"message.txt\"`.\n",
    "\n",
    "```python\n",
    "# Exercise 34\n",
    "```\n",
    "\n",
    "---\n",
    "\n",
    "### Exercise 35:\n",
    "Write a Python script that reads a file and prints the total number of characters, excluding spaces.\n",
    "\n",
    "```python\n",
    "# Exercise 35\n",
    "```\n",
    "\n",
    "---\n",
    "\n",
    "### Exercise 36:\n",
    "Create a Python script to check whether a file is empty or not.\n",
    "\n",
    "```python\n",
    "# Exercise 36\n",
    "```\n",
    "\n",
    "---\n",
    "\n",
    "### Exercise 37:\n",
    "Write a Python function that reads a file and removes all punctuation marks from the text.\n",
    "\n",
    "```python\n",
    "# Exercise 37\n",
    "```\n",
    "\n",
    "---\n",
    "\n",
    "### Exercise 38:\n",
    "Create a Python function that writes a list of strings to a file, each string on a new line.\n",
    "\n",
    "```python\n",
    "# Exercise 38\n",
    "```\n",
    "\n",
    "---\n",
    "\n",
    "### Exercise 39:\n",
    "Write a Python script to count the number of lines that start with a specific letter (e.g., \"A\") in a text file.\n",
    "\n",
    "```python\n",
    "# Exercise 39\n",
    "```\n",
    "\n",
    "---\n",
    "\n",
    "### Exercise 40:\n",
    "Write a Python function that takes a string as input and writes it to a file `\"output.txt\"` in reverse order.\n",
    "\n",
    "```python\n",
    "# Exercise 40\n",
    "```\n",
    "\n",
    "---\n",
    "\n",
    "### Exercise 41:\n",
    "Write a Python script that reads a file and prints all the lines that contain the word `\"Python\"`.\n",
    "\n",
    "```python\n",
    "# Exercise 41\n",
    "```\n",
    "\n",
    "---\n",
    "\n",
    "### Exercise 42:\n",
    "Write a Python script that opens a file and removes all numeric digits from the file's content.\n",
    "\n",
    "```python\n",
    "# Exercise 42\n",
    "```\n",
    "\n",
    "---\n",
    "\n",
    "### Exercise 43:\n",
    "Write a Python script to find the most frequent word in a text file `\"book.txt\"`.\n",
    "\n",
    "```python\n",
    "# Exercise 43\n",
    "```\n",
    "\n",
    "---\n",
    "\n",
    "### Exercise 44:\n",
    "Write a Python script that reads a file and prints all the lines that contain exactly 5 words.\n",
    "\n",
    "```python\n",
    "# Exercise 44\n",
    "```\n",
    "\n",
    "---\n",
    "\n",
    "### Exercise 45:\n",
    "Write a Python script to read a file and print the first and last line of the file.\n",
    "\n",
    "```python\n",
    "# Exercise 45\n",
    "```\n",
    "\n",
    "---\n",
    "\n",
    "### Exercise 46:\n",
    "Write a Python script that checks if a file `\"students.txt\"` is writable.\n",
    "\n",
    "```python\n",
    "# Exercise 46\n",
    "```\n",
    "\n",
    "---\n",
    "\n",
    "### Exercise 47:\n",
    "Create a Python function that opens a file and returns the number of unique words in the file.\n",
    "\n",
    "```python\n",
    "# Exercise 47\n",
    "```\n",
    "\n",
    "---\n",
    "\n",
    "### Exercise 48:\n",
    "Write a Python script that reads a file and prints all lines in reverse order.\n",
    "\n",
    "```python\n",
    "# Exercise 48\n",
    "```\n",
    "\n",
    "---\n",
    "\n",
    "### Exercise 49:\n",
    "Write a Python function that reads a file and returns the most common letter in the text.\n",
    "\n",
    "```python\n",
    "# Exercise 49\n",
    "```\n",
    "\n",
    "---\n",
    "\n",
    "### Exercise 50:\n",
    "Write a Python script that reads a file and replaces every occurrence of `\"Python\"` with `\"Java\"`.\n",
    "\n",
    "```python\n",
    "# Exercise 50\n",
    "```\n",
    "\n",
    "---\n",
    "\n"
   ]
  },
  {
   "cell_type": "markdown",
   "id": "1eaf6b05-84ed-43c2-a2e7-cc885b0231b1",
   "metadata": {
    "id": "dcf6ca38"
   },
   "source": [
    "# Practical_2: String and files"
   ]
  },
  {
   "cell_type": "markdown",
   "id": "e330bff3-8286-4d46-bcb2-ae04ce9d841e",
   "metadata": {},
   "source": [
    "#### Exercise 1:"
   ]
  },
  {
   "cell_type": "code",
   "execution_count": 68,
   "id": "0d3df959-3e81-486e-a296-cc054b2d6a66",
   "metadata": {},
   "outputs": [
    {
     "data": {
      "text/plain": [
       "'Python is amazing!'"
      ]
     },
     "execution_count": 68,
     "metadata": {},
     "output_type": "execute_result"
    }
   ],
   "source": [
    "text = \"Python is amazing!\"\n",
    "text"
   ]
  },
  {
   "cell_type": "markdown",
   "id": "ec40e9ee-0d79-4101-b78a-07922055dc15",
   "metadata": {},
   "source": [
    "#### Exercise 2:"
   ]
  },
  {
   "cell_type": "code",
   "execution_count": 70,
   "id": "9563c047-9cdd-467d-a99d-09bf99e54d5a",
   "metadata": {},
   "outputs": [
    {
     "data": {
      "text/plain": [
       "13"
      ]
     },
     "execution_count": 70,
     "metadata": {},
     "output_type": "execute_result"
    }
   ],
   "source": [
    "length = len(\"Hello, World!\")\n",
    "length"
   ]
  },
  {
   "cell_type": "markdown",
   "id": "e47b0c2e-ddce-4bcd-9ad2-64bb154b9d23",
   "metadata": {},
   "source": [
    "#### Exercise 3:"
   ]
  },
  {
   "cell_type": "code",
   "execution_count": 72,
   "id": "e62e96b4-229f-4052-af22-1c6c5f051add",
   "metadata": {},
   "outputs": [
    {
     "data": {
      "text/plain": [
       "'PYTHON PROGRAMMING'"
      ]
     },
     "execution_count": 72,
     "metadata": {},
     "output_type": "execute_result"
    }
   ],
   "source": [
    "upper_text = \"python programming\".upper()\n",
    "upper_text"
   ]
  },
  {
   "cell_type": "markdown",
   "id": "46f48b82-2578-4bcf-9f3f-3a0e64d54ec9",
   "metadata": {},
   "source": [
    "#### Exercise 4:"
   ]
  },
  {
   "cell_type": "code",
   "execution_count": 75,
   "id": "7e52c490-219a-46df-ac1a-03b40dda7ee2",
   "metadata": {},
   "outputs": [
    {
     "data": {
      "text/plain": [
       "'Artif'"
      ]
     },
     "execution_count": 75,
     "metadata": {},
     "output_type": "execute_result"
    }
   ],
   "source": [
    "text = \"Artificial Intelligence\"\n",
    "first_five = text[:5]\n",
    "first_five"
   ]
  },
  {
   "cell_type": "markdown",
   "id": "e757342d-0bf8-46f3-8383-dfb99fdd8281",
   "metadata": {},
   "source": [
    "#### Exercise 5:"
   ]
  },
  {
   "cell_type": "code",
   "execution_count": 77,
   "id": "1a763025-1b70-4e1a-9d9e-4fe5c535db79",
   "metadata": {},
   "outputs": [
    {
     "data": {
      "text/plain": [
       "'Hello World'"
      ]
     },
     "execution_count": 77,
     "metadata": {},
     "output_type": "execute_result"
    }
   ],
   "source": [
    "greeting = \"Hello\" + \" \" + \"World\"\n",
    "greeting"
   ]
  },
  {
   "cell_type": "markdown",
   "id": "d7791692-0060-4239-8173-2ddf512d5076",
   "metadata": {},
   "source": [
    "#### Exercise 6:"
   ]
  },
  {
   "cell_type": "code",
   "execution_count": 79,
   "id": "4f535e33-1c90-408e-aece-ec9e3c962c86",
   "metadata": {},
   "outputs": [
    {
     "data": {
      "text/plain": [
       "'The quick brown cat jumps over the lazy cat.'"
      ]
     },
     "execution_count": 79,
     "metadata": {},
     "output_type": "execute_result"
    }
   ],
   "source": [
    "text = \"The quick brown dog jumps over the lazy dog.\"\n",
    "updated_text = text.replace(\"dog\", \"cat\")\n",
    "updated_text"
   ]
  },
  {
   "cell_type": "markdown",
   "id": "0774e072-ccaa-4100-9dd9-2b9638b4a6cf",
   "metadata": {},
   "source": [
    "#### Exercise 7:"
   ]
  },
  {
   "cell_type": "code",
   "execution_count": 81,
   "id": "7eb32bcc-a38b-4cfe-a781-3c6470d7f37e",
   "metadata": {},
   "outputs": [
    {
     "data": {
      "text/plain": [
       "['apple', 'banana', 'orange']"
      ]
     },
     "execution_count": 81,
     "metadata": {},
     "output_type": "execute_result"
    }
   ],
   "source": [
    "fruits = \"apple,banana,orange\"\n",
    "fruits_list = fruits.split(\",\")\n",
    "fruits_list"
   ]
  },
  {
   "cell_type": "markdown",
   "id": "391d9c79-7987-4906-8893-dad8499bc1a3",
   "metadata": {},
   "source": [
    "#### Exercise 8:"
   ]
  },
  {
   "cell_type": "code",
   "execution_count": 83,
   "id": "88d38d4b-7012-41da-8c85-2a40a09b7d5c",
   "metadata": {},
   "outputs": [
    {
     "data": {
      "text/plain": [
       "'My name is Alice and I am 25 years old.'"
      ]
     },
     "execution_count": 83,
     "metadata": {},
     "output_type": "execute_result"
    }
   ],
   "source": [
    "name = \"Alice\"\n",
    "age = 25\n",
    "sentence = f\"My name is {name} and I am {age} years old.\"\n",
    "sentence"
   ]
  },
  {
   "cell_type": "markdown",
   "id": "ad5a7547-2926-4f4c-92c8-b4992a0393b7",
   "metadata": {},
   "source": [
    "#### Exercise 9:"
   ]
  },
  {
   "cell_type": "code",
   "execution_count": 85,
   "id": "38eed6ef-b2a8-491f-95a8-448edcc3218f",
   "metadata": {},
   "outputs": [
    {
     "data": {
      "text/plain": [
       "True"
      ]
     },
     "execution_count": 85,
     "metadata": {},
     "output_type": "execute_result"
    }
   ],
   "source": [
    "sentence = \"I love python programming\"\n",
    "is_present = \"python\" in sentence\n",
    "is_present"
   ]
  },
  {
   "cell_type": "markdown",
   "id": "fb27a7d0-b2a7-4beb-8093-0157ab3333fb",
   "metadata": {},
   "source": [
    "#### Exercise 10:"
   ]
  },
  {
   "cell_type": "code",
   "execution_count": 87,
   "id": "65d61935-d749-4e67-b208-43756681cbf0",
   "metadata": {},
   "outputs": [
    {
     "data": {
      "text/plain": [
       "4"
      ]
     },
     "execution_count": 87,
     "metadata": {},
     "output_type": "execute_result"
    }
   ],
   "source": [
    "text = \"Elephant is an elegant animal\"\n",
    "count_e = text.lower().count(\"e\")\n",
    "count_e"
   ]
  },
  {
   "cell_type": "markdown",
   "id": "96690d97-2e41-40b7-ae5d-af5c463276a6",
   "metadata": {},
   "source": [
    "#### Exercise 11:"
   ]
  },
  {
   "cell_type": "code",
   "execution_count": 89,
   "id": "bead2091-4af3-4660-a5b6-9097be203479",
   "metadata": {},
   "outputs": [
    {
     "data": {
      "text/plain": [
       "'Data Science'"
      ]
     },
     "execution_count": 89,
     "metadata": {},
     "output_type": "execute_result"
    }
   ],
   "source": [
    "text = \"   Data Science   \"\n",
    "clean_text = text.strip()\n",
    "clean_text"
   ]
  },
  {
   "cell_type": "markdown",
   "id": "d7c6f64a-9ba1-4683-9342-8c0dedfd4169",
   "metadata": {},
   "source": [
    "#### Exercise 12:"
   ]
  },
  {
   "cell_type": "code",
   "execution_count": 91,
   "id": "6757c406-1e6a-47b7-a811-f6eecafbcaaa",
   "metadata": {},
   "outputs": [
    {
     "data": {
      "text/plain": [
       "100"
      ]
     },
     "execution_count": 91,
     "metadata": {},
     "output_type": "execute_result"
    }
   ],
   "source": [
    "int_value = int(\"100\")\n",
    "int_value"
   ]
  },
  {
   "cell_type": "markdown",
   "id": "130490dc-3a19-43a9-970a-e9dfa775fe92",
   "metadata": {},
   "source": [
    "#### Exercise 13:"
   ]
  },
  {
   "cell_type": "code",
   "execution_count": 93,
   "id": "c9c4c2de-43c0-4339-b9b6-b68e8bfb1a4e",
   "metadata": {},
   "outputs": [
    {
     "data": {
      "text/plain": [
       "'pro'"
      ]
     },
     "execution_count": 93,
     "metadata": {},
     "output_type": "execute_result"
    }
   ],
   "source": [
    "text = \"programming\"\n",
    "substring = text[:3]\n",
    "substring"
   ]
  },
  {
   "cell_type": "markdown",
   "id": "437457d7-43e8-49c5-ade5-9422d70291d2",
   "metadata": {},
   "source": [
    "#### Exercise 14:"
   ]
  },
  {
   "cell_type": "code",
   "execution_count": 99,
   "id": "cc88eea8-424a-42d0-9fbc-a29662f53710",
   "metadata": {},
   "outputs": [
    {
     "data": {
      "text/plain": [
       "True"
      ]
     },
     "execution_count": 99,
     "metadata": {},
     "output_type": "execute_result"
    }
   ],
   "source": [
    "text = \"data\"\n",
    "starts_with_da = text.startswith(\"da\")\n",
    "ends_with_ta = text.endswith(\"ta\")\n",
    "starts_with_da\n",
    "ends_with_ta"
   ]
  },
  {
   "cell_type": "markdown",
   "id": "540ced7e-3a18-4996-b433-dc944141f932",
   "metadata": {},
   "source": [
    "#### Exercise 15:"
   ]
  },
  {
   "cell_type": "code",
   "execution_count": 101,
   "id": "e29b8282-5ec3-4064-85f7-165bd73b4850",
   "metadata": {},
   "outputs": [
    {
     "data": {
      "text/plain": [
       "'gninrael enihcam'"
      ]
     },
     "execution_count": 101,
     "metadata": {},
     "output_type": "execute_result"
    }
   ],
   "source": [
    "text = \"machine learning\"\n",
    "reversed_text = text[::-1]\n",
    "reversed_text"
   ]
  },
  {
   "cell_type": "markdown",
   "id": "942ba176-9e3e-494c-ab35-538fe027bbad",
   "metadata": {},
   "source": [
    "#### Exercise 16:"
   ]
  },
  {
   "cell_type": "code",
   "execution_count": 103,
   "id": "f91dddbf-c261-477e-8830-e168142ee3de",
   "metadata": {},
   "outputs": [
    {
     "data": {
      "text/plain": [
       "'Machine Learning Is Fun'"
      ]
     },
     "execution_count": 103,
     "metadata": {},
     "output_type": "execute_result"
    }
   ],
   "source": [
    "text = \"machine learning is fun\"\n",
    "title_text = text.title()\n",
    "title_text"
   ]
  },
  {
   "cell_type": "markdown",
   "id": "82a1b6b8-35e0-414b-ba06-6b33939641f6",
   "metadata": {},
   "source": [
    "#### Exercise 17:"
   ]
  },
  {
   "cell_type": "code",
   "execution_count": 105,
   "id": "1df5b435-b041-4a9a-b998-08a197be9395",
   "metadata": {},
   "outputs": [
    {
     "data": {
      "text/plain": [
       "'The sun sets low beyond the hill,\\nIts golden light begins to spill.\\nThe stars emerge, the moon takes flight,\\nA peaceful calm wraps up the night.'"
      ]
     },
     "execution_count": 105,
     "metadata": {},
     "output_type": "execute_result"
    }
   ],
   "source": [
    "poem = \"\"\"The sun sets low beyond the hill,\n",
    "Its golden light begins to spill.\n",
    "The stars emerge, the moon takes flight,\n",
    "A peaceful calm wraps up the night.\"\"\"\n",
    "poem"
   ]
  },
  {
   "cell_type": "markdown",
   "id": "2d364261-a15c-4c10-84ea-1019f0b79f78",
   "metadata": {},
   "source": [
    "#### Exercise 18:"
   ]
  },
  {
   "cell_type": "code",
   "execution_count": 109,
   "id": "73b8475a-840b-404d-9731-1626f773d63e",
   "metadata": {},
   "outputs": [
    {
     "data": {
      "text/plain": [
       "'This is the content to be written to the file.'"
      ]
     },
     "execution_count": 109,
     "metadata": {},
     "output_type": "execute_result"
    }
   ],
   "source": [
    "text = \"This is the content to be written to the file.\"\n",
    "with open(\"output.txt\", \"w\") as file:\n",
    "    file.write(text)\n",
    "text"
   ]
  },
  {
   "cell_type": "markdown",
   "id": "7a42c1eb-f356-4ac4-88c6-9cecb053206f",
   "metadata": {},
   "source": [
    "#### Exercise 19:"
   ]
  },
  {
   "cell_type": "code",
   "execution_count": 212,
   "id": "80613c22-65cb-49fe-b38d-d8e4e9f0ef23",
   "metadata": {},
   "outputs": [
    {
     "name": "stdout",
     "output_type": "stream",
     "text": [
      "Name,Age,Score\n",
      "Alice,23,85\n",
      "Bob,30,90\n",
      "Charlie,25,88\n"
     ]
    }
   ],
   "source": [
    "with open(r\"C:\\Users\\ADELINE PC\\Desktop\\Data\\data.txt\") as file:\n",
    "    for line in file:\n",
    "     print(line, end='')"
   ]
  },
  {
   "cell_type": "markdown",
   "id": "1d96ba0d-2ab0-4276-878d-fed45856181d",
   "metadata": {},
   "source": [
    "#### Exercise 20:"
   ]
  },
  {
   "cell_type": "code",
   "execution_count": 115,
   "id": "aad26633-d528-43da-b718-6691f5c5fb6d",
   "metadata": {},
   "outputs": [
    {
     "name": "stdout",
     "output_type": "stream",
     "text": [
      "File does not exist.\n"
     ]
    }
   ],
   "source": [
    "import os\n",
    "\n",
    "if os.path.isfile(\"example.txt\"):\n",
    "    with open(\"example.txt\", \"r\") as file:\n",
    "        content = file.read()\n",
    "        print(content)\n",
    "else:\n",
    "    print(\"File does not exist.\")"
   ]
  },
  {
   "cell_type": "markdown",
   "id": "3791ef28-19c4-4705-ba56-47e55d392d74",
   "metadata": {},
   "source": [
    "#### Exercise 21:"
   ]
  },
  {
   "cell_type": "code",
   "execution_count": 121,
   "id": "477372f0-bd7b-499c-872e-14baae7654ab",
   "metadata": {},
   "outputs": [
    {
     "data": {
      "text/plain": [
       "<_io.TextIOWrapper name='notes.txt' mode='a' encoding='cp1252'>"
      ]
     },
     "execution_count": 121,
     "metadata": {},
     "output_type": "execute_result"
    }
   ],
   "source": [
    "with open(\"notes.txt\", \"a\") as file:\n",
    "    file.write(\"\\nThis is a new line\")\n",
    "file"
   ]
  },
  {
   "cell_type": "markdown",
   "id": "afe9e235-d8cb-4d85-a5c8-7a547fb381f2",
   "metadata": {},
   "source": [
    "#### Exercise 22:"
   ]
  },
  {
   "cell_type": "code",
   "execution_count": 214,
   "id": "93fff525-9fa5-4572-9b75-ced09eb7dece",
   "metadata": {},
   "outputs": [],
   "source": [
    "with open(r\"C:\\Users\\ADELINE PC\\Desktop\\Data\\log.txt\") as file:\n",
    "    log_lines = file.readlines()\n",
    "    log_lines"
   ]
  },
  {
   "cell_type": "markdown",
   "id": "679cef91-ee7c-4c4f-abf2-9eb907ef2789",
   "metadata": {},
   "source": [
    "#### Exercise 23:"
   ]
  },
  {
   "cell_type": "code",
   "execution_count": 131,
   "id": "c0b53665-11b6-4ee3-b5de-6559d04f6424",
   "metadata": {},
   "outputs": [
    {
     "data": {
      "text/plain": [
       "<_io.TextIOWrapper name='report.txt' mode='w' encoding='cp1252'>"
      ]
     },
     "execution_count": 131,
     "metadata": {},
     "output_type": "execute_result"
    }
   ],
   "source": [
    "with open(\"report.txt\", \"w\") as file:\n",
    "    file.write(\"Data analysis report\")\n",
    "file"
   ]
  },
  {
   "cell_type": "markdown",
   "id": "e454cbb3-4eeb-468b-8018-364735b8c615",
   "metadata": {},
   "source": [
    "#### Exercise 24:"
   ]
  },
  {
   "cell_type": "code",
   "execution_count": 226,
   "id": "000f17fd-5f58-4c18-b5c2-85907d251378",
   "metadata": {},
   "outputs": [],
   "source": [
    "file_path = r\"C:\\Users\\ADELINE PC\\Desktop\\Data\\log.txt\"\n",
    "\n",
    "# Read the contents\n",
    "with open(file_path, \"r\") as file:\n",
    "    content = file.read()\n",
    "\n",
    "# Replace 'error' with 'issue'\n",
    "updated_content = content.replace(\"error\", \"issue\")\n",
    "\n",
    "# Write the updated content back to the file\n",
    "with open(file_path, \"w\") as file:\n",
    "    file.write(updated_content)"
   ]
  },
  {
   "cell_type": "markdown",
   "id": "17a0cbe5-c80b-4688-a738-a8c629842132",
   "metadata": {},
   "source": [
    "#### Exercise 25:"
   ]
  },
  {
   "cell_type": "code",
   "execution_count": 228,
   "id": "dfa65975-78d1-4ad5-8b3b-61e313492561",
   "metadata": {},
   "outputs": [
    {
     "name": "stdout",
     "output_type": "stream",
     "text": [
      "Number of words: 12\n"
     ]
    }
   ],
   "source": [
    "with open(r\"C:\\Users\\ADELINE PC\\Desktop\\Data\\document.txt\") as file:\n",
    "    text = file.read()\n",
    "\n",
    "words = text.split()\n",
    "word_count = len(words)\n",
    "\n",
    "print(\"Number of words:\", word_count)"
   ]
  },
  {
   "cell_type": "markdown",
   "id": "57d18808-0dd3-46b7-b77e-bc8dbed2db25",
   "metadata": {},
   "source": [
    "#### Exercise 26:"
   ]
  },
  {
   "cell_type": "code",
   "execution_count": 230,
   "id": "34632160-48c9-48dc-9395-9173b768a07c",
   "metadata": {},
   "outputs": [
    {
     "name": "stdout",
     "output_type": "stream",
     "text": [
      "Total lines: 1\n",
      "Total words: 10\n",
      "Total characters: 66\n"
     ]
    }
   ],
   "source": [
    "with open(r\"C:\\Users\\ADELINE PC\\Desktop\\Data\\essay.txt\") as file:\n",
    "    lines = file.readlines()\n",
    "\n",
    "num_lines = len(lines)\n",
    "num_words = 0\n",
    "num_chars = 0\n",
    "\n",
    "for line in lines:\n",
    "    num_words += len(line.split())\n",
    "    num_chars += len(line)\n",
    "\n",
    "print(f\"Total lines: {num_lines}\")\n",
    "print(f\"Total words: {num_words}\")\n",
    "print(f\"Total characters: {num_chars}\")"
   ]
  },
  {
   "cell_type": "markdown",
   "id": "b2bf1cd3-e94e-4e8b-a059-251b0cba6697",
   "metadata": {},
   "source": [
    "#### Exercise 27:"
   ]
  },
  {
   "cell_type": "code",
   "execution_count": 232,
   "id": "d68dd8f6-b77d-4031-8266-24a806bdfbf2",
   "metadata": {},
   "outputs": [],
   "source": [
    "with open(r\"C:\\Users\\ADELINE PC\\Desktop\\Data\\source.txt\") as source_file:\n",
    "    content = source_file.read()\n",
    "\n",
    "with open(r\"C:\\Users\\ADELINE PC\\Desktop\\Data\\destination.txt\", \"w\") as dest_file:\n",
    "    dest_file.write(content)"
   ]
  },
  {
   "cell_type": "markdown",
   "id": "56e8a4cb-fdc1-41aa-8ad6-e57b4415a9a3",
   "metadata": {},
   "source": [
    "#### Exercise 28:"
   ]
  },
  {
   "cell_type": "code",
   "execution_count": 145,
   "id": "20f3b9c2-de98-43d7-9f8d-51e48203be39",
   "metadata": {},
   "outputs": [
    {
     "data": {
      "text/plain": [
       "<_io.TextIOWrapper name='report.txt' mode='w' encoding='cp1252'>"
      ]
     },
     "execution_count": 145,
     "metadata": {},
     "output_type": "execute_result"
    }
   ],
   "source": [
    "def count_lines(filename):\n",
    "    with open(filename, 'r') as file:\n",
    "        lines = file.readlines()\n",
    "    return len(lines)\n",
    "\n",
    "# Example usage:\n",
    "# line_count = count_lines('example.txt')\n",
    "# print(line_count)\n",
    "file"
   ]
  },
  {
   "cell_type": "markdown",
   "id": "7adad059-ab2f-47ce-a6c3-d0a5e54423fd",
   "metadata": {},
   "source": [
    "#### Exercise 29:"
   ]
  },
  {
   "cell_type": "code",
   "execution_count": 234,
   "id": "6a141ddc-d8db-4636-b774-8fce5aa1793b",
   "metadata": {},
   "outputs": [
    {
     "name": "stdout",
     "output_type": "stream",
     "text": [
      "['sample', 'article', 'applications.', 'multiple', 'lines.']\n"
     ]
    }
   ],
   "source": [
    "with open(r\"C:\\Users\\ADELINE PC\\Desktop\\Data\\article.txt\") as file:\n",
    "    text = file.read()\n",
    "\n",
    "words = text.split()\n",
    "long_words = [word for word in words if len(word) > 5]\n",
    "\n",
    "print(long_words)"
   ]
  },
  {
   "cell_type": "markdown",
   "id": "8afe4fc4-a842-4d91-956f-e4d6379d0c59",
   "metadata": {},
   "source": [
    "#### Exercise 30:"
   ]
  },
  {
   "cell_type": "code",
   "execution_count": 151,
   "id": "ae656efa-27bc-4144-bff1-21420150eb29",
   "metadata": {},
   "outputs": [
    {
     "data": {
      "text/plain": [
       "<_io.TextIOWrapper name='uppercase_notes.txt' mode='w' encoding='cp1252'>"
      ]
     },
     "execution_count": 151,
     "metadata": {},
     "output_type": "execute_result"
    }
   ],
   "source": [
    "with open(\"notes.txt\", \"r\") as infile:\n",
    "    content = infile.read()\n",
    "\n",
    "uppercase_content = content.upper()\n",
    "\n",
    "with open(\"uppercase_notes.txt\", \"w\") as outfile:\n",
    "    outfile.write(uppercase_content)\n",
    "infile\n",
    "outfile"
   ]
  },
  {
   "cell_type": "markdown",
   "id": "e707c7e7-bfc9-43ee-bf8d-400531b5d14d",
   "metadata": {},
   "source": [
    "#### Exercise 31:"
   ]
  },
  {
   "cell_type": "code",
   "execution_count": 254,
   "id": "24020425-f54b-4c32-8c8c-833321fc5a39",
   "metadata": {},
   "outputs": [],
   "source": [
    "input_file = \"notes.txt\"\n",
    "\n",
    "with open(r\"C:\\Users\\ADELINE PC\\Desktop\\Data\\notes.txt\") as file:\n",
    "    lines = file.readlines()\n",
    "\n",
    "# Filter out empty or whitespace-only lines\n",
    "non_empty_lines = [line for line in lines if line.strip() != \"\"]\n",
    "\n",
    "with open(input_file, \"w\") as file:\n",
    "    file.writelines(non_empty_lines)"
   ]
  },
  {
   "cell_type": "markdown",
   "id": "303cfda4-5127-48f1-800c-dbf40b0615d0",
   "metadata": {},
   "source": [
    "#### Exercise 32:"
   ]
  },
  {
   "cell_type": "code",
   "execution_count": 238,
   "id": "0f708b83-4495-44d7-bf8f-aaf16bdac062",
   "metadata": {},
   "outputs": [],
   "source": [
    "with open(r\"C:\\Users\\ADELINE PC\\Desktop\\Data\\config.txt\", \"r+\") as file:\n",
    "    content = file.read()\n",
    "    file.seek(0)          # Move cursor to the beginning\n",
    "    file.write(\"New content\")\n",
    "    file.truncate()       # Optional: remove remaining old content after new write"
   ]
  },
  {
   "cell_type": "markdown",
   "id": "34b6f1d8-768b-4ccb-aa20-499a912db6c5",
   "metadata": {},
   "source": [
    "#### Exercise 33:"
   ]
  },
  {
   "cell_type": "code",
   "execution_count": 171,
   "id": "1d45b0f2-b9c2-44ad-a823-ffb5e40208bc",
   "metadata": {},
   "outputs": [],
   "source": [
    "def print_longest_line(filename):\n",
    "    with open(filename, 'r') as file:\n",
    "        longest_line = \"\"\n",
    "        for line in file:\n",
    "            if len(line) > len(longest_line):\n",
    "                longest_line = line        # Example usage:\n",
    "       # print_longest_line(\"example.txt\")\n",
    "    print(\"Longest line:\")\n",
    "    print(longest_line.strip())\n"
   ]
  },
  {
   "cell_type": "markdown",
   "id": "4ce52d7a-3593-428f-96da-225d677840a6",
   "metadata": {},
   "source": [
    "#### Exercise 34:"
   ]
  },
  {
   "cell_type": "code",
   "execution_count": 240,
   "id": "e3ec9d5b-64e4-4c31-93fd-9639b2ca8d8e",
   "metadata": {},
   "outputs": [
    {
     "name": "stdout",
     "output_type": "stream",
     "text": [
      "h: 3\n",
      "e: 6\n",
      "l: 3\n",
      "o: 1\n",
      "t: 2\n",
      "r: 1\n",
      "i: 3\n",
      "s: 4\n",
      "a: 2\n",
      "m: 1\n",
      "g: 1\n",
      "f: 1\n"
     ]
    }
   ],
   "source": [
    "from collections import Counter\n",
    "import string\n",
    "\n",
    "with open(r\"C:\\Users\\ADELINE PC\\Desktop\\Data\\message.txt\") as file:\n",
    "    text = file.read().lower()\n",
    "\n",
    "# Filter only alphabetic characters\n",
    "letters = [char for char in text if char in string.ascii_lowercase]\n",
    "\n",
    "frequency = Counter(letters)\n",
    "\n",
    "for letter, count in frequency.items():\n",
    "    print(f\"{letter}: {count}\")"
   ]
  },
  {
   "cell_type": "markdown",
   "id": "1a3b1a09-ce8f-407a-8a80-7b9309c4fd7e",
   "metadata": {},
   "source": [
    "#### Exercise 35:"
   ]
  },
  {
   "cell_type": "code",
   "execution_count": 179,
   "id": "ccbf1a4a-d5b1-455e-8153-dcdc03e2c30e",
   "metadata": {},
   "outputs": [],
   "source": [
    "def count_characters_excluding_spaces(filename):\n",
    "    with open(filename, 'r') as file:\n",
    "        text = file.read()\n",
    "    \n",
    "    # Remove all space characters and count the rest\n",
    "    char_count = len(text.replace(\" \", \"\").replace(\"\\n\", \"\").replace(\"\\t\", \"\"))\n",
    "    \n",
    "    print(f\"Total characters (excluding spaces): {char_count}\")\n",
    "\n",
    "# Example usage:\n",
    "# count_characters_excluding_spaces(\"yourfile.txt\")\n"
   ]
  },
  {
   "cell_type": "markdown",
   "id": "7101a8eb-4ca3-427d-9a45-a1685e281374",
   "metadata": {},
   "source": [
    "#### Exercise 36:"
   ]
  },
  {
   "cell_type": "code",
   "execution_count": 181,
   "id": "fb035ab3-5c5a-4f22-9b7f-5fe06145b28e",
   "metadata": {},
   "outputs": [
    {
     "name": "stdout",
     "output_type": "stream",
     "text": [
      "example.txt is not empty.\n"
     ]
    }
   ],
   "source": [
    "import os\n",
    "\n",
    "def is_file_empty(filename):\n",
    "    return os.path.isfile(filename) and os.path.getsize(filename) == 0\n",
    "\n",
    "# Example usage:\n",
    "filename = \"example.txt\"\n",
    "if is_file_empty(filename):\n",
    "    print(f\"{filename} is empty.\")\n",
    "else:\n",
    "    print(f\"{filename} is not empty.\")"
   ]
  },
  {
   "cell_type": "markdown",
   "id": "81fa2c6e-089d-4563-aca4-836288de0d4d",
   "metadata": {},
   "source": [
    "#### Exercise 37:"
   ]
  },
  {
   "cell_type": "code",
   "execution_count": 183,
   "id": "3285d54c-d7a5-406b-83a0-c12260ec0c95",
   "metadata": {},
   "outputs": [],
   "source": [
    "import string\n",
    "\n",
    "def remove_punctuation(filename):\n",
    "    with open(filename, 'r') as file:\n",
    "        text = file.read()\n",
    "\n",
    "    # Remove punctuation using str.translate\n",
    "    no_punct = text.translate(str.maketrans('', '', string.punctuation))\n",
    "    \n",
    "    return no_punct\n",
    "\n",
    "# Example usage:\n",
    "# cleaned_text = remove_punctuation(\"example.txt\")\n",
    "# print(cleaned_text)"
   ]
  },
  {
   "cell_type": "markdown",
   "id": "8222780b-f7f7-4f7d-bc77-9d7b3c39d843",
   "metadata": {},
   "source": [
    "#### Exercise 38:"
   ]
  },
  {
   "cell_type": "code",
   "execution_count": 185,
   "id": "a605b0bf-fdd8-4ed5-b615-0a808b045727",
   "metadata": {},
   "outputs": [],
   "source": [
    "def write_lines_to_file(filename, lines):\n",
    "    with open(filename, 'w') as file:\n",
    "        for line in lines:\n",
    "            file.write(line + '\\n')\n",
    "\n",
    "# Example usage:\n",
    "lines = [\"Hello\", \"World\", \"Python is awesome!\"]\n",
    "write_lines_to_file(\"output.txt\", lines)"
   ]
  },
  {
   "cell_type": "markdown",
   "id": "96706caa-f549-4f74-b9c9-9207ae50ae44",
   "metadata": {},
   "source": [
    "#### Exercise 39:"
   ]
  },
  {
   "cell_type": "code",
   "execution_count": 252,
   "id": "4f38a738-0780-419a-a882-1d3bbb856d82",
   "metadata": {},
   "outputs": [
    {
     "name": "stdout",
     "output_type": "stream",
     "text": [
      "Number of lines starting with 'A': 0\n"
     ]
    }
   ],
   "source": [
    "def count_lines_starting_with(filename, letter):\n",
    "    count = 0\n",
    "    with open(r\"C:\\Users\\ADELINE PC\\Desktop\\Data\\document.txt\") as file:\n",
    "        for line in file:\n",
    "            if line.strip().startswith(letter):\n",
    "                count += 1\n",
    "    return count\n",
    "\n",
    "# Example usage:\n",
    "filename = \"document.txt\"\n",
    "letter = \"A\"\n",
    "result = count_lines_starting_with(filename, letter)\n",
    "print(f\"Number of lines starting with '{letter}': {result}\")"
   ]
  },
  {
   "cell_type": "markdown",
   "id": "54bf9717-c413-4087-a62f-020168f2284c",
   "metadata": {},
   "source": [
    "#### Exercise 40:"
   ]
  },
  {
   "cell_type": "code",
   "execution_count": 191,
   "id": "843bf719-347f-433c-bcd7-7cffa89d84c4",
   "metadata": {},
   "outputs": [],
   "source": [
    "def write_reversed_to_file(input_string):\n",
    "    reversed_string = input_string[::-1]\n",
    "    with open(\"output.txt\", \"w\") as file:\n",
    "        file.write(reversed_string)\n",
    "\n",
    "# Example usage:\n",
    "# write_reversed_to_file(\"Hello, World!\")"
   ]
  },
  {
   "cell_type": "markdown",
   "id": "bb64f284-312d-4fb9-bac4-b2b023d4f648",
   "metadata": {},
   "source": [
    "#### Exercise 41:"
   ]
  },
  {
   "cell_type": "code",
   "execution_count": 256,
   "id": "7aa6d950-2b8f-4663-a5e0-4005209e92b1",
   "metadata": {},
   "outputs": [],
   "source": [
    "def print_lines_with_python(filename):\n",
    "    try:\n",
    "        with open(r\"C:\\Users\\ADELINE PC\\Desktop\\Data\\example.txt\") as file:\n",
    "            for line in file:\n",
    "                if \"Python\" in line:\n",
    "                    print(line.strip())\n",
    "    except FileNotFoundError:\n",
    "        print(f\"The file '{filename}' does not exist.\")\n",
    "\n",
    "# Example usage:\n",
    "# print_lines_with_python(\"example.txt\")"
   ]
  },
  {
   "cell_type": "markdown",
   "id": "2b97c0e9-7068-4040-af27-8398cc39a793",
   "metadata": {},
   "source": [
    "#### Exercise 42:"
   ]
  },
  {
   "cell_type": "code",
   "execution_count": 248,
   "id": "6e1f9533-56a1-40a7-94c7-5f788bf36702",
   "metadata": {},
   "outputs": [],
   "source": [
    "def remove_digits_from_file(input_file, output_file):\n",
    "    with open(input_file, 'r') as file:\n",
    "        content = file.read()\n",
    "    \n",
    "    # Remove all numeric digits\n",
    "    cleaned_content = ''.join(char for char in content if not char.isdigit())\n",
    "    \n",
    "    # Write the cleaned content to the output file\n",
    "    with open(r\"C:\\Users\\ADELINE PC\\Desktop\\Data\\output.txt\", 'w') as file:\n",
    "        file.write(cleaned_content)\n",
    "\n",
    "# Example usage:\n",
    "# remove_digits_from_file(\"data.txt\", \"cleaned_data.txt\")"
   ]
  },
  {
   "cell_type": "markdown",
   "id": "583e19c3-6da0-4b0a-ba0b-7004004a4f29",
   "metadata": {},
   "source": [
    "#### Exercise 43:"
   ]
  },
  {
   "cell_type": "code",
   "execution_count": 246,
   "id": "abf043aa-a5f4-4f6a-9bbd-30a27f8c0489",
   "metadata": {},
   "outputs": [],
   "source": [
    "from collections import Counter\n",
    "import string\n",
    "\n",
    "def most_frequent_word(filename):\n",
    "    with open(r\"C:\\Users\\ADELINE PC\\Desktop\\Data\\book.txt\") as file:\n",
    "        text = file.read().lower()\n",
    "\n",
    "    # Remove punctuation\n",
    "    text = text.translate(str.maketrans('', '', string.punctuation))\n",
    "\n",
    "    # Split text into words\n",
    "    words = text.split()\n",
    "\n",
    "    # Count word frequencies\n",
    "    word_counts = Counter(words)\n",
    "\n",
    "    # Get the most common word\n",
    "    most_common = word_counts.most_common(1)\n",
    "    \n",
    "    if most_common:\n",
    "        word, count = most_common[0]\n",
    "        print(f\"The most frequent word is '{word}' which appears {count} times.\")\n",
    "    else:\n",
    "        print(\"The file is empty or contains no valid words.\")\n",
    "\n",
    "# Example usage:\n",
    "# most_frequent_word(\"book.txt\")"
   ]
  },
  {
   "cell_type": "markdown",
   "id": "2dda6c64-32f8-4afa-8c2c-121be2bebca8",
   "metadata": {},
   "source": [
    "#### Exercise 44:"
   ]
  },
  {
   "cell_type": "code",
   "execution_count": 198,
   "id": "6709c286-fd75-4060-8592-6e7e7031ca55",
   "metadata": {},
   "outputs": [],
   "source": [
    "def print_lines_with_five_words(filename):\n",
    "    with open(filename, 'r') as file:\n",
    "        for line in file:\n",
    "            # Strip whitespace and split by spaces\n",
    "            words = line.strip().split()\n",
    "            if len(words) == 5:\n",
    "                print(line.strip())\n",
    "\n",
    "# Example usage:\n",
    "# print_lines_with_five_words(\"example.txt\")"
   ]
  },
  {
   "cell_type": "markdown",
   "id": "0be39adb-850d-4cd3-aae3-abdf536e1c17",
   "metadata": {},
   "source": [
    "#### Exercise 45:"
   ]
  },
  {
   "cell_type": "code",
   "execution_count": 200,
   "id": "41a0915f-890c-4efd-9a39-deb81684cda5",
   "metadata": {},
   "outputs": [],
   "source": [
    "def print_first_and_last_line(filename):\n",
    "    with open(filename, 'r') as file:\n",
    "        lines = file.readlines()\n",
    "        \n",
    "        if not lines:\n",
    "            print(\"The file is empty.\")\n",
    "        else:\n",
    "            print(\"First line:\", lines[0].strip())\n",
    "            print(\"Last line:\", lines[-1].strip())\n",
    "\n",
    "# Example usage:\n",
    "# print_first_and_last_line(\"example.txt\")"
   ]
  },
  {
   "cell_type": "markdown",
   "id": "3ce9d41e-0430-4902-83bb-ae9f2dee7c56",
   "metadata": {},
   "source": [
    "#### Exercise 46:"
   ]
  },
  {
   "cell_type": "code",
   "execution_count": 244,
   "id": "f26fd359-e2db-4484-a81f-a8cee42b2f8a",
   "metadata": {},
   "outputs": [
    {
     "name": "stdout",
     "output_type": "stream",
     "text": [
      "The file 'C:\\Users\\ADELINE PC\\Desktop\\Data\\students.txt' is writable.\n"
     ]
    }
   ],
   "source": [
    "import os\n",
    "\n",
    "def is_file_writable(filename):\n",
    "    # Check if the file exists\n",
    "    if os.path.exists(filename):\n",
    "        # Check if it is writable\n",
    "        return os.access(filename, os.W_OK)\n",
    "    else:\n",
    "        print(f\"The file '{filename}' does not exist.\")\n",
    "        return False\n",
    "\n",
    "# Example usage:\n",
    "filename = r\"C:\\Users\\ADELINE PC\\Desktop\\Data\\students.txt\"\n",
    "if is_file_writable(filename):\n",
    "    print(f\"The file '{filename}' is writable.\")\n",
    "else:\n",
    "    print(f\"The file '{filename}' is not writable.\")"
   ]
  },
  {
   "cell_type": "markdown",
   "id": "30d31046-7737-4646-ad45-b273002c51c7",
   "metadata": {},
   "source": [
    "#### Exercise 47:"
   ]
  },
  {
   "cell_type": "code",
   "execution_count": 204,
   "id": "d64e1490-2a62-4333-935e-4d98d557a5ef",
   "metadata": {},
   "outputs": [],
   "source": [
    "import string\n",
    "\n",
    "def count_unique_words(filename):\n",
    "    try:\n",
    "        with open(filename, 'r') as file:\n",
    "            text = file.read().lower()\n",
    "            # Remove punctuation\n",
    "            text = text.translate(str.maketrans('', '', string.punctuation))\n",
    "            words = text.split()\n",
    "            unique_words = set(words)\n",
    "            return len(unique_words)\n",
    "    except FileNotFoundError:\n",
    "        print(f\"The file '{filename}' does not exist.\")\n",
    "        return 0\n",
    "\n",
    "# Example usage:\n",
    "# unique_count = count_unique_words(\"example.txt\")\n",
    "# print(f\"Number of unique words: {unique_count}\")"
   ]
  },
  {
   "cell_type": "markdown",
   "id": "7ba95582-4644-4bab-a391-560d997367e0",
   "metadata": {},
   "source": [
    "#### Exercise 48:"
   ]
  },
  {
   "cell_type": "code",
   "execution_count": 206,
   "id": "336abfcf-7e5a-4c01-983b-6f36358131c1",
   "metadata": {},
   "outputs": [],
   "source": [
    "def print_lines_in_reverse(filename):\n",
    "    try:\n",
    "        with open(filename, 'r') as file:\n",
    "            lines = file.readlines()\n",
    "            for line in reversed(lines):\n",
    "                print(line.strip())\n",
    "    except FileNotFoundError:\n",
    "        print(f\"The file '{filename}' does not exist.\")\n",
    "\n",
    "# Example usage:\n",
    "# print_lines_in_reverse(\"example.txt\")"
   ]
  },
  {
   "cell_type": "markdown",
   "id": "77fb8317-2e48-4e8b-86a0-e8aadedc9963",
   "metadata": {},
   "source": [
    "#### Exercise 49:"
   ]
  },
  {
   "cell_type": "code",
   "execution_count": 208,
   "id": "e3c002f1-a649-4420-a4ca-210af1229389",
   "metadata": {},
   "outputs": [],
   "source": [
    "from collections import Counter\n",
    "import string\n",
    "\n",
    "def most_common_letter(filename):\n",
    "    try:\n",
    "        with open(filename, 'r') as file:\n",
    "            text = file.read().lower()\n",
    "\n",
    "        # Filter out non-letter characters\n",
    "        letters_only = [char for char in text if char in string.ascii_lowercase]\n",
    "\n",
    "        if not letters_only:\n",
    "            return None\n",
    "\n",
    "        # Count letter frequencies\n",
    "        letter_counts = Counter(letters_only)\n",
    "\n",
    "        # Get the most common letter\n",
    "        most_common = letter_counts.most_common(1)[0]\n",
    "        return most_common[0], most_common[1]\n",
    "\n",
    "    except FileNotFoundError:\n",
    "        print(f\"The file '{filename}' does not exist.\")\n",
    "        return None\n",
    "\n",
    "# Example usage:\n",
    "# result = most_common_letter(\"example.txt\")\n",
    "# if result:\n",
    "#     print(f\"The most common letter is '{result[0]}' appearing {result[1]} times.\")"
   ]
  },
  {
   "cell_type": "markdown",
   "id": "c77cba92-af0e-4c4b-b9e4-3a14fb0c875e",
   "metadata": {},
   "source": [
    "#### Exercise 50:"
   ]
  },
  {
   "cell_type": "code",
   "execution_count": 210,
   "id": "e88b45e1-ee75-42f5-9879-67b81f2e6b5b",
   "metadata": {},
   "outputs": [],
   "source": [
    "def replace_python_with_java(filename):\n",
    "    try:\n",
    "        with open(filename, 'r') as file:\n",
    "            content = file.read()\n",
    "        \n",
    "        # Replace \"Python\" with \"Java\"\n",
    "        updated_content = content.replace(\"Python\", \"Java\")\n",
    "\n",
    "        # Write the updated content back to the file\n",
    "        with open(filename, 'w') as file:\n",
    "            file.write(updated_content)\n",
    "\n",
    "        print(f\"All occurrences of 'Python' have been replaced with 'Java' in '{filename}'.\")\n",
    "    \n",
    "    except FileNotFoundError:\n",
    "        print(f\"The file '{filename}' does not exist.\")\n",
    "\n",
    "# Example usage:\n",
    "# replace_python_with_java(\"example.txt\")"
   ]
  },
  {
   "cell_type": "code",
   "execution_count": null,
   "id": "dc396b96-f2fe-4489-8514-88b4ac08df25",
   "metadata": {},
   "outputs": [],
   "source": []
  }
 ],
 "metadata": {
  "colab": {
   "provenance": []
  },
  "kernelspec": {
   "display_name": "Python [conda env:base] *",
   "language": "python",
   "name": "conda-base-py"
  },
  "language_info": {
   "codemirror_mode": {
    "name": "ipython",
    "version": 3
   },
   "file_extension": ".py",
   "mimetype": "text/x-python",
   "name": "python",
   "nbconvert_exporter": "python",
   "pygments_lexer": "ipython3",
   "version": "3.12.4"
  }
 },
 "nbformat": 4,
 "nbformat_minor": 5
}
