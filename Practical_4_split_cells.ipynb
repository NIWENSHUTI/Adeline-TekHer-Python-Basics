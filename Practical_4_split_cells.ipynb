{
 "cells": [
  {
   "cell_type": "markdown",
   "id": "9fd00cef",
   "metadata": {
    "id": "9fd00cef"
   },
   "source": [
    "# Practical_4: Flow control"
   ]
  },
  {
   "cell_type": "markdown",
   "id": "497af3a0",
   "metadata": {
    "id": "497af3a0"
   },
   "source": [
    "\n",
    "\n",
    "---\n",
    "\n",
    "### Exercise 1:\n",
    "Write a Python program that checks if a number is positive or negative.\n"
   ]
  },
  {
   "cell_type": "code",
   "execution_count": 3,
   "id": "4525d7b1",
   "metadata": {
    "id": "4525d7b1"
   },
   "outputs": [
    {
     "name": "stdout",
     "output_type": "stream",
     "text": [
      "10 is positive.\n",
      "-5 is negative.\n",
      "0 is zero.\n"
     ]
    }
   ],
   "source": [
    "# Exercise 1\n",
    "def check_number(num):\n",
    "    if num > 0:\n",
    "        print(f\"{num} is positive.\")\n",
    "    elif num < 0:\n",
    "        print(f\"{num} is negative.\")\n",
    "    else:\n",
    "        print(f\"{num} is zero.\")\n",
    "\n",
    "check_number(10)\n",
    "check_number(-5)\n",
    "check_number(0)"
   ]
  },
  {
   "cell_type": "markdown",
   "id": "289c0fec",
   "metadata": {
    "id": "289c0fec"
   },
   "source": [
    "\n",
    "---\n",
    "\n",
    "### Exercise 2:\n",
    "Write a Python function that checks if a string starts with a vowel.\n"
   ]
  },
  {
   "cell_type": "code",
   "execution_count": 5,
   "id": "3adbe475",
   "metadata": {
    "id": "3adbe475"
   },
   "outputs": [
    {
     "name": "stdout",
     "output_type": "stream",
     "text": [
      "The string \"Tomorrow\" does not start with a vowel.\n"
     ]
    }
   ],
   "source": [
    "# Exercise 2\n",
    "def starts_with_vowel(s):\n",
    "    return s[0].lower() in 'aeiou' if s else False\n",
    "\n",
    "text = \"Tomorrow\"\n",
    "\n",
    "if starts_with_vowel(text):\n",
    "    print(f'The string \"{text}\" starts with a vowel.')\n",
    "else:\n",
    "    print(f'The string \"{text}\" does not start with a vowel.')"
   ]
  },
  {
   "cell_type": "markdown",
   "id": "d64fdd3e",
   "metadata": {
    "id": "d64fdd3e"
   },
   "source": [
    "\n",
    "---\n",
    "\n",
    "### Exercise 3:\n",
    "Write a Python program that takes a list of integers and prints \"Even\" for each even number and \"Odd\" for each odd number.\n"
   ]
  },
  {
   "cell_type": "code",
   "execution_count": 7,
   "id": "e6926b1c",
   "metadata": {
    "id": "e6926b1c"
   },
   "outputs": [
    {
     "name": "stdout",
     "output_type": "stream",
     "text": [
      "10: Even\n",
      "15: Odd\n",
      "22: Even\n",
      "33: Odd\n",
      "40: Even\n"
     ]
    }
   ],
   "source": [
    "# Exercise 3\n",
    "def print_even_odd(numbers):\n",
    "    for num in numbers:\n",
    "        if num % 2 == 0:\n",
    "            print(f\"{num}: Even\")\n",
    "        else:\n",
    "            print(f\"{num}: Odd\")\n",
    "\n",
    "nums = [10, 15, 22, 33, 40]\n",
    "print_even_odd(nums)"
   ]
  },
  {
   "cell_type": "markdown",
   "id": "b5ce7b99",
   "metadata": {
    "id": "b5ce7b99"
   },
   "source": [
    "\n",
    "---\n",
    "\n",
    "### Exercise 4:\n",
    "Write a Python program that checks if a given year is a leap year.\n"
   ]
  },
  {
   "cell_type": "code",
   "execution_count": 9,
   "id": "eb3d99f0",
   "metadata": {
    "id": "eb3d99f0"
   },
   "outputs": [
    {
     "name": "stdout",
     "output_type": "stream",
     "text": [
      "2024 is a leap year.\n"
     ]
    }
   ],
   "source": [
    "# Exercise 4\n",
    "def is_leap_year(year):\n",
    "    # Leap year if divisible by 400, or divisible by 4 but not by 100\n",
    "    if (year % 400 == 0) or (year % 4 == 0 and year % 100 != 0):\n",
    "        return True\n",
    "    else:\n",
    "        return False\n",
    "\n",
    "year = 2024\n",
    "if is_leap_year(year):\n",
    "    print(f\"{year} is a leap year.\")\n",
    "else:\n",
    "    print(f\"{year} is not a leap year.\")"
   ]
  },
  {
   "cell_type": "markdown",
   "id": "c5496d7d",
   "metadata": {
    "id": "c5496d7d"
   },
   "source": [
    "\n",
    "---\n",
    "\n",
    "### Exercise 5:\n",
    "Write a Python function that checks if a number is divisible by both 3 and 5.\n"
   ]
  },
  {
   "cell_type": "code",
   "execution_count": 11,
   "id": "46b1bd68",
   "metadata": {
    "id": "46b1bd68"
   },
   "outputs": [
    {
     "name": "stdout",
     "output_type": "stream",
     "text": [
      "50 is NOT divisible by both 3 and 5\n"
     ]
    }
   ],
   "source": [
    "# Exercise 5\n",
    "def divisible_by_3_and_5(num):\n",
    "    return num % 3 == 0 and num % 5 == 0\n",
    "number=50 \n",
    "if divisible_by_3_and_5(number): \n",
    "    print(f\"{number} is divisible by both 3 and 5.\")\n",
    "else:\n",
    "    print(f\"{number} is NOT divisible by both 3 and 5\")"
   ]
  },
  {
   "cell_type": "markdown",
   "id": "b0348707",
   "metadata": {
    "id": "b0348707"
   },
   "source": [
    "\n",
    "---\n",
    "\n",
    "### Exercise 6:\n",
    "Write a Python program that prints \"Hot\" if the temperature is above 30, \"Warm\" if it is between 15 and 30, and \"Cold\" if it is below 15.\n"
   ]
  },
  {
   "cell_type": "code",
   "execution_count": 13,
   "id": "dfde8564",
   "metadata": {
    "id": "dfde8564"
   },
   "outputs": [
    {
     "name": "stdout",
     "output_type": "stream",
     "text": [
      "Hot\n",
      "Warm\n",
      "Cold\n"
     ]
    }
   ],
   "source": [
    "# Exercise 6\n",
    "def check_temperature(temp):\n",
    "    if temp > 30:\n",
    "        print(\"Hot\")\n",
    "    elif 15 <= temp <= 30:\n",
    "        print(\"Warm\")\n",
    "    else:\n",
    "        print(\"Cold\")\n",
    "\n",
    "check_temperature(35)  # Hot\n",
    "check_temperature(20)  # Warm\n",
    "check_temperature(10) "
   ]
  },
  {
   "cell_type": "markdown",
   "id": "ec1d713e",
   "metadata": {
    "id": "ec1d713e"
   },
   "source": [
    "\n",
    "---\n",
    "\n",
    "### Exercise 7:\n",
    "Write a Python program that checks if a string contains the letter 'a'.\n"
   ]
  },
  {
   "cell_type": "code",
   "execution_count": 15,
   "id": "2eb30c57",
   "metadata": {
    "id": "2eb30c57"
   },
   "outputs": [
    {
     "name": "stdout",
     "output_type": "stream",
     "text": [
      "The string \"Hello world\" does not contain the letter \"a\".\n"
     ]
    }
   ],
   "source": [
    "# Exercise 7\n",
    "def contains_a(s):\n",
    "    return 'a' in s.lower()\n",
    "\n",
    "text = \"Hello world\"\n",
    "if contains_a(text):\n",
    "    print(f'The string \"{text}\" contains the letter \"a\".')\n",
    "else:\n",
    "    print(f'The string \"{text}\" does not contain the letter \"a\".')"
   ]
  },
  {
   "cell_type": "markdown",
   "id": "8194f567",
   "metadata": {
    "id": "8194f567"
   },
   "source": [
    "\n",
    "---\n",
    "\n",
    "### Exercise 8:\n",
    "Write a Python function that checks if two numbers are equal, or which one is larger.\n"
   ]
  },
  {
   "cell_type": "code",
   "execution_count": 17,
   "id": "ede9943f",
   "metadata": {
    "id": "ede9943f"
   },
   "outputs": [
    {
     "name": "stdout",
     "output_type": "stream",
     "text": [
      "20 is greater than 10.\n",
      "30 is greater than 15.\n",
      "The numbers are equal.\n"
     ]
    }
   ],
   "source": [
    "# Exercise 8\n",
    "def compare_numbers(a, b):\n",
    "    if a == b:\n",
    "        return \"The numbers are equal.\"\n",
    "    elif a > b:\n",
    "        return f\"{a} is greater than {b}.\"\n",
    "    else:\n",
    "        return f\"{b} is greater than {a}.\"\n",
    "\n",
    "print(compare_numbers(10, 20))\n",
    "print(compare_numbers(30, 15))\n",
    "print(compare_numbers(5, 5))"
   ]
  },
  {
   "cell_type": "markdown",
   "id": "9e86c97f",
   "metadata": {
    "id": "9e86c97f"
   },
   "source": [
    "\n",
    "---\n",
    "\n",
    "### Exercise 9:\n",
    "Write a Python program that checks if a list is empty.\n"
   ]
  },
  {
   "cell_type": "code",
   "execution_count": 19,
   "id": "13738c3f",
   "metadata": {
    "id": "13738c3f"
   },
   "outputs": [
    {
     "name": "stdout",
     "output_type": "stream",
     "text": [
      "The list is empty.\n"
     ]
    }
   ],
   "source": [
    "# Exercise 9\n",
    "def is_list_empty(lst):\n",
    "    return len(lst) == 0\n",
    "\n",
    "my_list = []\n",
    "\n",
    "if is_list_empty(my_list):\n",
    "    print(\"The list is empty.\")\n",
    "else:\n",
    "    print(\"The list is not empty.\")"
   ]
  },
  {
   "cell_type": "markdown",
   "id": "645a85cc",
   "metadata": {
    "id": "645a85cc"
   },
   "source": [
    "\n",
    "---\n",
    "\n",
    "### Exercise 10:\n",
    "Write a Python function that takes two strings and checks if they are anagrams.\n"
   ]
  },
  {
   "cell_type": "code",
   "execution_count": 21,
   "id": "756b7d46",
   "metadata": {
    "id": "756b7d46"
   },
   "outputs": [
    {
     "name": "stdout",
     "output_type": "stream",
     "text": [
      "\"listen\" and \"silent\" are anagrams.\n"
     ]
    }
   ],
   "source": [
    "# Exercise 10\n",
    "def are_anagrams(str1, str2):\n",
    "    # Remove spaces and convert to lowercase for accurate comparison\n",
    "    str1 = str1.replace(\" \", \"\").lower()\n",
    "    str2 = str2.replace(\" \", \"\").lower()\n",
    "\n",
    "    # Sort and compare the characters\n",
    "    if sorted(str1) == sorted(str2):\n",
    "        return True\n",
    "    else:\n",
    "        return False\n",
    "\n",
    "word1 = \"listen\"\n",
    "word2 = \"silent\"\n",
    "\n",
    "if are_anagrams(word1, word2):\n",
    "    print(f'\"{word1}\" and \"{word2}\" are anagrams.')\n",
    "else:\n",
    "    print(f'\"{word1}\" and \"{word2}\" are not anagrams.')\n",
    " "
   ]
  },
  {
   "cell_type": "markdown",
   "id": "59ebce61",
   "metadata": {
    "id": "59ebce61"
   },
   "source": [
    "\n",
    "---\n",
    "\n",
    "### Exercise 11:\n",
    "Write a Python program that checks if a number is prime.\n"
   ]
  },
  {
   "cell_type": "code",
   "execution_count": 23,
   "id": "b077d9a1",
   "metadata": {
    "id": "b077d9a1"
   },
   "outputs": [
    {
     "name": "stdout",
     "output_type": "stream",
     "text": [
      "29 is a prime number.\n"
     ]
    }
   ],
   "source": [
    "# Exercise 11\n",
    "def is_prime(n):\n",
    "    if n <= 1:\n",
    "        return False  # 0 and 1 are not prime numbers\n",
    "    elif n == 2:\n",
    "        return True   # 2 is the only even prime number\n",
    "    elif n % 2 == 0:\n",
    "        return False  # other even numbers are not prime\n",
    "    else:\n",
    "        for i in range(3, int(n**0.5) + 1, 2):  # check only odd divisors up to √n\n",
    "            if n % i == 0:\n",
    "                return False\n",
    "        return True\n",
    "\n",
    "number = 29\n",
    "\n",
    "if is_prime(number):\n",
    "    print(f\"{number} is a prime number.\")\n",
    "else:\n",
    "    print(f\"{number} is not a prime number.\")"
   ]
  },
  {
   "cell_type": "markdown",
   "id": "531463b8",
   "metadata": {
    "id": "531463b8"
   },
   "source": [
    "\n",
    "---\n",
    "\n",
    "### Exercise 12:\n",
    "Write a Python program that checks if a list of numbers is sorted in ascending order.\n"
   ]
  },
  {
   "cell_type": "code",
   "execution_count": 25,
   "id": "01fc5a9e",
   "metadata": {
    "id": "01fc5a9e"
   },
   "outputs": [
    {
     "name": "stdout",
     "output_type": "stream",
     "text": [
      "The list is sorted in ascending order.\n"
     ]
    }
   ],
   "source": [
    "# Exercise 12\n",
    "def is_sorted_ascending(lst):\n",
    "    for i in range(len(lst) - 1):\n",
    "        if lst[i] > lst[i + 1]:\n",
    "            return False\n",
    "    return True\n",
    "\n",
    "numbers = [1, 2, 3, 4, 5]\n",
    "\n",
    "if is_sorted_ascending(numbers):\n",
    "    print(\"The list is sorted in ascending order.\")\n",
    "else:\n",
    "    print(\"The list is not sorted in ascending order.\")"
   ]
  },
  {
   "cell_type": "markdown",
   "id": "b15a0cca",
   "metadata": {
    "id": "b15a0cca"
   },
   "source": [
    "\n",
    "---\n",
    "\n",
    "### Exercise 13:\n",
    "Write a Python function that takes a character and checks if it is a digit.\n"
   ]
  },
  {
   "cell_type": "code",
   "execution_count": 27,
   "id": "2dc9a053",
   "metadata": {
    "id": "2dc9a053"
   },
   "outputs": [
    {
     "name": "stdout",
     "output_type": "stream",
     "text": [
      "\"5\" is a digit.\n"
     ]
    }
   ],
   "source": [
    "# Exercise 13\n",
    "def is_digit(char):\n",
    "    if char.isdigit():\n",
    "        return True\n",
    "    else:\n",
    "        return False\n",
    "\n",
    "character = '5'\n",
    "\n",
    "if is_digit(character):\n",
    "    print(f'\"{character}\" is a digit.')\n",
    "else:\n",
    "    print(f'\"{character}\" is not a digit.')"
   ]
  },
  {
   "cell_type": "markdown",
   "id": "60190b10",
   "metadata": {
    "id": "60190b10"
   },
   "source": [
    "\n",
    "---\n",
    "\n",
    "### Exercise 14:\n",
    "Write a Python function that checks if a string contains only uppercase letters.\n"
   ]
  },
  {
   "cell_type": "code",
   "execution_count": 29,
   "id": "4ed8ebfa",
   "metadata": {
    "id": "4ed8ebfa"
   },
   "outputs": [
    {
     "name": "stdout",
     "output_type": "stream",
     "text": [
      "\"HELLO\" contains only uppercase letters.\n"
     ]
    }
   ],
   "source": [
    "# Exercise 14\n",
    "def is_all_uppercase(s):\n",
    "    if s.isupper():\n",
    "        return True\n",
    "    else:\n",
    "        return False\n",
    "\n",
    "text = \"HELLO\"\n",
    "\n",
    "if is_all_uppercase(text):\n",
    "    print(f'\"{text}\" contains only uppercase letters.')\n",
    "else:\n",
    "    print(f'\"{text}\" does not contain only uppercase letters.')"
   ]
  },
  {
   "cell_type": "markdown",
   "id": "7f7dd4fd",
   "metadata": {
    "id": "7f7dd4fd"
   },
   "source": [
    "\n",
    "---\n",
    "\n",
    "### Exercise 15:\n",
    "Write a Python program that checks if a number is a multiple of 10.\n"
   ]
  },
  {
   "cell_type": "code",
   "execution_count": 31,
   "id": "e35d5709",
   "metadata": {
    "id": "e35d5709"
   },
   "outputs": [
    {
     "name": "stdout",
     "output_type": "stream",
     "text": [
      "50 is a multiple of 10.\n"
     ]
    }
   ],
   "source": [
    "# Exercise 15\n",
    "def is_multiple_of_10(num):\n",
    "    if num % 10 == 0:\n",
    "        return True\n",
    "    else:\n",
    "        return False\n",
    "\n",
    "number = 50\n",
    "\n",
    "if is_multiple_of_10(number):\n",
    "    print(f\"{number} is a multiple of 10.\")\n",
    "else:\n",
    "    print(f\"{number} is not a multiple of 10.\")"
   ]
  },
  {
   "cell_type": "markdown",
   "id": "83e1c5d3",
   "metadata": {
    "id": "83e1c5d3"
   },
   "source": [
    "\n",
    "---\n",
    "\n",
    "### Exercise 16:\n",
    "Write a Python function that checks if a list contains any duplicates.\n"
   ]
  },
  {
   "cell_type": "code",
   "execution_count": 33,
   "id": "24d52edd",
   "metadata": {
    "id": "24d52edd"
   },
   "outputs": [
    {
     "name": "stdout",
     "output_type": "stream",
     "text": [
      "The list contains duplicates.\n"
     ]
    }
   ],
   "source": [
    "# Exercise 16\n",
    "def has_duplicates(lst):\n",
    "    if len(lst) != len(set(lst)):\n",
    "        return True\n",
    "    else:\n",
    "        return False\n",
    "\n",
    "my_list = [1, 2, 3, 4, 5, 3]\n",
    "\n",
    "if has_duplicates(my_list):\n",
    "    print(\"The list contains duplicates.\")\n",
    "else:\n",
    "    print(\"The list does not contain duplicates.\")"
   ]
  },
  {
   "cell_type": "markdown",
   "id": "d9533146",
   "metadata": {
    "id": "d9533146"
   },
   "source": [
    "\n",
    "---\n",
    "\n",
    "### Exercise 17:\n",
    "Write a Python program that prints \"Teenager\" if the age is between 13 and 19, otherwise it prints \"Not a teenager.\"\n"
   ]
  },
  {
   "cell_type": "code",
   "execution_count": 35,
   "id": "c35dcc4f-c6b9-4958-9316-369c01fc3f85",
   "metadata": {},
   "outputs": [
    {
     "name": "stdout",
     "output_type": "stream",
     "text": [
      "Not a teenager.\n"
     ]
    }
   ],
   "source": [
    "# Exercise 17\n",
    "age = int(13-19)\n",
    "age=23\n",
    "\n",
    "if 13 <= age <= 19:\n",
    "\n",
    "    print(\"Teenager\")\n",
    "else:\n",
    "    print(\"Not a teenager.\")"
   ]
  },
  {
   "cell_type": "markdown",
   "id": "370f2ba1",
   "metadata": {
    "id": "370f2ba1"
   },
   "source": [
    "\n",
    "---\n",
    "\n",
    "### Exercise 18:\n",
    "Write a Python function that checks if a list contains an element greater than 100.\n"
   ]
  },
  {
   "cell_type": "code",
   "execution_count": 37,
   "id": "23cde312",
   "metadata": {
    "id": "23cde312"
   },
   "outputs": [
    {
     "name": "stdout",
     "output_type": "stream",
     "text": [
      "The list contains an element greater than 100.\n"
     ]
    }
   ],
   "source": [
    "# Exercise 18\n",
    "def has_greater_than_100(lst):\n",
    "    for num in lst:\n",
    "        if num > 100:\n",
    "            return True\n",
    "    return False\n",
    "\n",
    "numbers = [10, 55, 101, 99]\n",
    "\n",
    "if has_greater_than_100(numbers):\n",
    "    print(\"The list contains an element greater than 100.\")\n",
    "else:\n",
    "    print(\"The list does not contain any element greater than 100.\")"
   ]
  },
  {
   "cell_type": "markdown",
   "id": "322ae5e3",
   "metadata": {
    "id": "322ae5e3"
   },
   "source": [
    "\n",
    "---\n",
    "\n",
    "### Exercise 19:\n",
    "Write a Python program that checks if a number is even or odd.\n"
   ]
  },
  {
   "cell_type": "code",
   "execution_count": 39,
   "id": "a91bd104",
   "metadata": {
    "id": "a91bd104"
   },
   "outputs": [
    {
     "name": "stdout",
     "output_type": "stream",
     "text": [
      "7 is odd.\n"
     ]
    }
   ],
   "source": [
    "# Exercise 19\n",
    "number = int(5-10)\n",
    "number=7\n",
    "\n",
    "if number % 2 == 0:\n",
    "    print(f\"{number} is even.\")\n",
    "else:\n",
    "    print(f\"{number} is odd.\")"
   ]
  },
  {
   "cell_type": "markdown",
   "id": "98e0835d",
   "metadata": {
    "id": "98e0835d"
   },
   "source": [
    "\n",
    "---\n",
    "\n",
    "### Exercise 20:\n",
    "Write a Python function that checks if a string ends with a punctuation mark.\n"
   ]
  },
  {
   "cell_type": "code",
   "execution_count": 41,
   "id": "31fd2458",
   "metadata": {
    "id": "31fd2458"
   },
   "outputs": [
    {
     "name": "stdout",
     "output_type": "stream",
     "text": [
      "The string \"Hello!\" ends with a punctuation mark.\n"
     ]
    }
   ],
   "source": [
    "# Exercise 20\n",
    "import string\n",
    "\n",
    "def ends_with_punctuation(s):\n",
    "    return bool(s) and s[-1] in string.punctuation\n",
    "\n",
    "text = \"Hello!\"\n",
    "if ends_with_punctuation(text):\n",
    "    print(f'The string \"{text}\" ends with a punctuation mark.')\n",
    "else:\n",
    "    print(f'The string \"{text}\" does not end with a punctuation mark.')"
   ]
  },
  {
   "cell_type": "markdown",
   "id": "fb313702",
   "metadata": {
    "id": "fb313702"
   },
   "source": [
    "\n",
    "---\n",
    "\n",
    "### Exercise 21:\n",
    "Write a Python program that prints \"Yes\" if the number is between 1 and 100, otherwise it prints \"No.\"\n"
   ]
  },
  {
   "cell_type": "code",
   "execution_count": 43,
   "id": "e362bd56",
   "metadata": {
    "id": "e362bd56"
   },
   "outputs": [
    {
     "name": "stdout",
     "output_type": "stream",
     "text": [
      "Yes\n"
     ]
    }
   ],
   "source": [
    "# Exercise 21\n",
    "number = int(1-100)\n",
    "number=70\n",
    "\n",
    "if 1 <= number <= 100:\n",
    "    print(\"Yes\")\n",
    "else:\n",
    "    print(\"No.\")"
   ]
  },
  {
   "cell_type": "markdown",
   "id": "3afeef94",
   "metadata": {
    "id": "3afeef94"
   },
   "source": [
    "\n",
    "---\n",
    "\n",
    "### Exercise 22:\n",
    "Write a Python program that checks if two strings have the same length.\n"
   ]
  },
  {
   "cell_type": "code",
   "execution_count": 45,
   "id": "73b75867",
   "metadata": {
    "id": "73b75867"
   },
   "outputs": [
    {
     "name": "stdout",
     "output_type": "stream",
     "text": [
      "The strings have the same length.\n"
     ]
    }
   ],
   "source": [
    "# Exercise 22\n",
    "def same_length(str1, str2):\n",
    "    if len(str1) == len(str2):\n",
    "        return True\n",
    "    else:\n",
    "        return False\n",
    "\n",
    "string1 = \"hello\"\n",
    "string2 = \"world\"\n",
    "\n",
    "if same_length(string1, string2):\n",
    "    print(\"The strings have the same length.\")\n",
    "else:\n",
    "    print(\"The strings do not have the same length.\")"
   ]
  },
  {
   "cell_type": "markdown",
   "id": "bdd8e2ae",
   "metadata": {
    "id": "bdd8e2ae"
   },
   "source": [
    "\n",
    "---\n",
    "\n",
    "### Exercise 23:\n",
    "Write a Python function that checks if a number is greater than its reverse.\n"
   ]
  },
  {
   "cell_type": "code",
   "execution_count": 47,
   "id": "da8ad2f4",
   "metadata": {
    "id": "da8ad2f4"
   },
   "outputs": [
    {
     "name": "stdout",
     "output_type": "stream",
     "text": [
      "321 is greater than its reverse.\n"
     ]
    }
   ],
   "source": [
    "# Exercise 23\n",
    "def is_greater_than_reverse(num):\n",
    "    # Convert number to string to reverse it\n",
    "    reversed_num = int(str(num)[::-1])\n",
    "    return num > reversed_num\n",
    "\n",
    "number = 321\n",
    "if is_greater_than_reverse(number):\n",
    "    print(f\"{number} is greater than its reverse.\")\n",
    "else:\n",
    "    print(f\"{number} is not greater than its reverse.\")"
   ]
  },
  {
   "cell_type": "markdown",
   "id": "fab070bc",
   "metadata": {
    "id": "fab070bc"
   },
   "source": [
    "\n",
    "---\n",
    "\n",
    "### Exercise 24:\n",
    "Write a Python program that checks if a password contains both letters and numbers.\n"
   ]
  },
  {
   "cell_type": "code",
   "execution_count": 69,
   "id": "6e22f9b2",
   "metadata": {
    "id": "6e22f9b2"
   },
   "outputs": [
    {
     "name": "stdout",
     "output_type": "stream",
     "text": [
      "Password must contain both letters and numbers.\n"
     ]
    }
   ],
   "source": [
    "# Exercise 24\n",
    "def contains_letters_and_numbers(password):\n",
    "    has_letter = any(char.isalpha() for char in password)\n",
    "    has_number = any(char.isdigit() for char in password)\n",
    "    return has_letter and has_number\n",
    "\n",
    "password = \"A@gmail.:\"\n",
    "\n",
    "if contains_letters_and_numbers(password):\n",
    "    print(\"Password contains both letters and numbers.\")\n",
    "else:\n",
    "    print(\"Password must contain both letters and numbers.\")"
   ]
  },
  {
   "cell_type": "markdown",
   "id": "11cb6e7b",
   "metadata": {
    "id": "11cb6e7b"
   },
   "source": [
    "\n",
    "---\n",
    "\n",
    "### Exercise 25:\n",
    "Write a Python program that checks if a number is between two given numbers.\n"
   ]
  },
  {
   "cell_type": "code",
   "execution_count": 71,
   "id": "38cab028",
   "metadata": {
    "id": "38cab028"
   },
   "outputs": [
    {
     "name": "stdout",
     "output_type": "stream",
     "text": [
      "15 is between 10 and 20.\n"
     ]
    }
   ],
   "source": [
    "# Exercise 25\n",
    "def is_between(num, low, high):\n",
    "    if low < num < high:\n",
    "        print(f\"{num} is between {low} and {high}.\")\n",
    "    else:\n",
    "        print(f\"{num} is not between {low} and {high}.\")\n",
    "\n",
    "number = 15\n",
    "lower_bound = 10\n",
    "upper_bound = 20\n",
    "\n",
    "is_between(number, lower_bound, upper_bound)"
   ]
  },
  {
   "cell_type": "markdown",
   "id": "50b24a42",
   "metadata": {
    "id": "50b24a42"
   },
   "source": [
    "\n",
    "---\n",
    "\n",
    "### Exercise 26:\n",
    "Write a Python function that checks if all characters in a string are unique.\n"
   ]
  },
  {
   "cell_type": "code",
   "execution_count": 73,
   "id": "62537159",
   "metadata": {
    "id": "62537159"
   },
   "outputs": [
    {
     "name": "stdout",
     "output_type": "stream",
     "text": [
      "All characters in \"python\" are unique.\n"
     ]
    }
   ],
   "source": [
    "# Exercise 26\n",
    "def all_unique_characters(s):\n",
    "    return len(set(s)) == len(s)\n",
    "\n",
    "text = \"python\"\n",
    "if all_unique_characters(text):\n",
    "    print(f'All characters in \"{text}\" are unique.')\n",
    "else:\n",
    "    print(f'Not all characters in \"{text}\" are unique.')"
   ]
  },
  {
   "cell_type": "markdown",
   "id": "54ffa82e",
   "metadata": {
    "id": "54ffa82e"
   },
   "source": [
    "\n",
    "---\n",
    "\n",
    "### Exercise 27:\n",
    "Write a Python program that checks if a number is a perfect square.\n"
   ]
  },
  {
   "cell_type": "code",
   "execution_count": 75,
   "id": "dd0707b7",
   "metadata": {
    "id": "dd0707b7"
   },
   "outputs": [
    {
     "name": "stdout",
     "output_type": "stream",
     "text": [
      "144 is a perfect square.\n"
     ]
    }
   ],
   "source": [
    "# Exercise 27\n",
    "import math\n",
    "\n",
    "def is_perfect_square(n):\n",
    "    if n < 0:\n",
    "        return False\n",
    "    root = math.isqrt(n)  # Integer square root\n",
    "    return root * root == n\n",
    "\n",
    "number = int(50-150) \n",
    "number=144\n",
    "if is_perfect_square(number):\n",
    "    print(f\"{number} is a perfect square.\")\n",
    "else:\n",
    "    print(f\"{number} is not a perfect square.\")"
   ]
  },
  {
   "cell_type": "markdown",
   "id": "78349b82",
   "metadata": {
    "id": "78349b82"
   },
   "source": [
    "\n",
    "---\n",
    "\n",
    "### Exercise 28:\n",
    "Write a Python function that checks if a word is a palindrome.\n"
   ]
  },
  {
   "cell_type": "code",
   "execution_count": 78,
   "id": "04056d04",
   "metadata": {
    "id": "04056d04"
   },
   "outputs": [
    {
     "name": "stdout",
     "output_type": "stream",
     "text": [
      "\"Magnificent\" is not a palindrome.\n"
     ]
    }
   ],
   "source": [
    "# Exercise 28\n",
    "def is_palindrome(word):\n",
    "    word = word.lower()  # Make it case-insensitive\n",
    "    return word == word[::-1]\n",
    "\n",
    "word = \"Magnificent\"\n",
    "if is_palindrome(word):\n",
    "    print(f'\"{word}\" is a palindrome.')\n",
    "else:\n",
    "    print(f'\"{word}\" is not a palindrome.')"
   ]
  },
  {
   "cell_type": "markdown",
   "id": "9728cce0",
   "metadata": {
    "id": "9728cce0"
   },
   "source": [
    "\n",
    "---\n",
    "\n",
    "### Exercise 29:\n",
    "Write a Python program that prints \"Fizz\" if a number is divisible by 3, \"Buzz\" if it is divisible by 5, and \"FizzBuzz\" if divisible by both.\n"
   ]
  },
  {
   "cell_type": "code",
   "execution_count": 80,
   "id": "d3caedaa",
   "metadata": {
    "id": "d3caedaa"
   },
   "outputs": [
    {
     "name": "stdout",
     "output_type": "stream",
     "text": [
      "Buzz\n"
     ]
    }
   ],
   "source": [
    "# Exercise 29\n",
    "def fizz_buzz(n):\n",
    "    if n % 3 == 0 and n % 5 == 0:\n",
    "        return \"FizzBuzz\"\n",
    "    elif n % 3 == 0:\n",
    "        return \"Fizz\"\n",
    "    elif n % 5 == 0:\n",
    "        return \"Buzz\"\n",
    "    else:\n",
    "        return str(n)\n",
    "\n",
    "number = int(20-30)\n",
    "print(fizz_buzz(number))"
   ]
  },
  {
   "cell_type": "markdown",
   "id": "b3c19de5",
   "metadata": {
    "id": "b3c19de5"
   },
   "source": [
    "\n",
    "---\n",
    "\n",
    "### Exercise 30:\n",
    "Write a Python program that checks if the sum of the digits of a number is even.\n"
   ]
  },
  {
   "cell_type": "code",
   "execution_count": 82,
   "id": "1d8d47e4",
   "metadata": {
    "id": "1d8d47e4"
   },
   "outputs": [
    {
     "name": "stdout",
     "output_type": "stream",
     "text": [
      "The sum of the digits of -5 is odd.\n"
     ]
    }
   ],
   "source": [
    "# Exercise 30\n",
    "def is_digit_sum_even(n):\n",
    "    n = abs(n)  # Handle negative numbers\n",
    "    digit_sum = sum(int(digit) for digit in str(n))\n",
    "    return digit_sum % 2 == 0\n",
    "\n",
    "number = int(4-9)\n",
    "if is_digit_sum_even(number):\n",
    "    print(f\"The sum of the digits of {number} is even.\")\n",
    "else:\n",
    "    print(f\"The sum of the digits of {number} is odd.\")"
   ]
  },
  {
   "cell_type": "markdown",
   "id": "dbe78293",
   "metadata": {
    "id": "dbe78293"
   },
   "source": [
    "\n",
    "---\n",
    "\n",
    "### Exercise 31:\n",
    "Write a Python program that checks if a string is a valid email address.\n"
   ]
  },
  {
   "cell_type": "code",
   "execution_count": 84,
   "id": "dc64fe29",
   "metadata": {
    "id": "dc64fe29"
   },
   "outputs": [
    {
     "name": "stdout",
     "output_type": "stream",
     "text": [
      "\"adelineniwenshuti@gmail.com\" is a valid email address.\n"
     ]
    }
   ],
   "source": [
    "# Exercise 31\n",
    "import re\n",
    "\n",
    "def is_valid_email(email):\n",
    "    pattern = r'^[\\w\\.-]+@[\\w\\.-]+\\.\\w+$'\n",
    "    return re.match(pattern, email) is not None\n",
    "\n",
    "email = \"adelineniwenshuti@gmail.com\"\n",
    "if is_valid_email(email):\n",
    "    print(f'\"{email}\" is a valid email address.')\n",
    "else:\n",
    "    print(f'\"{email}\" is not a valid email address.')"
   ]
  },
  {
   "cell_type": "markdown",
   "id": "32922851",
   "metadata": {
    "id": "32922851"
   },
   "source": [
    "\n",
    "---\n",
    "\n",
    "### Exercise 32:\n",
    "Write a Python function that checks if a number is within 10 of 100 or 200.\n"
   ]
  },
  {
   "cell_type": "code",
   "execution_count": 86,
   "id": "c3ae205c",
   "metadata": {
    "id": "c3ae205c"
   },
   "outputs": [
    {
     "name": "stdout",
     "output_type": "stream",
     "text": [
      "-190 is not within 10 of 100 or 200.\n"
     ]
    }
   ],
   "source": [
    "# Exercise 32\n",
    "def is_within_10_of_100_or_200(n):\n",
    "    return abs(100 - n) <= 10 or abs(200 - n) <= 10\n",
    "\n",
    "number = int(10-200)\n",
    "if is_within_10_of_100_or_200(number):\n",
    "    print(f\"{number} is within 10 of 100 or 200.\")\n",
    "else:\n",
    "    print(f\"{number} is not within 10 of 100 or 200.\")"
   ]
  },
  {
   "cell_type": "markdown",
   "id": "fedc8718",
   "metadata": {
    "id": "fedc8718"
   },
   "source": [
    "\n",
    "---\n",
    "\n",
    "### Exercise 33:\n",
    "Write a Python program that checks if a given string is a valid URL.\n"
   ]
  },
  {
   "cell_type": "code",
   "execution_count": 88,
   "id": "756593ce",
   "metadata": {
    "id": "756593ce"
   },
   "outputs": [
    {
     "name": "stdout",
     "output_type": "stream",
     "text": [
      "\"https://drive.google.com/file/d/1OIhNEKw6xUHx_BpWJxYa3TaqKC7iUunJ/view\" is a valid URL.\n"
     ]
    }
   ],
   "source": [
    "# Exercise 33\n",
    "import re\n",
    "\n",
    "def is_valid_url(url):\n",
    "    pattern = re.compile(\n",
    "        r'^(https?:\\/\\/)?'                # optional http or https\n",
    "        r'([\\da-z\\.-]+)\\.([a-z\\.]{2,6})'  # domain name\n",
    "        r'([\\/\\w \\.-]*)*\\/?$'            # path\n",
    "    )\n",
    "    return re.match(pattern, url) is not None\n",
    "\n",
    "url = \"https://drive.google.com/file/d/1OIhNEKw6xUHx_BpWJxYa3TaqKC7iUunJ/view\"\n",
    "if is_valid_url(url):\n",
    "    print(f'\"{url}\" is a valid URL.')\n",
    "else:\n",
    "    print(f'\"{url}\" is not a valid URL.')"
   ]
  },
  {
   "cell_type": "markdown",
   "id": "13e8fcae",
   "metadata": {
    "id": "13e8fcae"
   },
   "source": [
    "\n",
    "---\n",
    "\n",
    "### Exercise 34:\n",
    "Write a Python program that checks if a list contains all even numbers.\n"
   ]
  },
  {
   "cell_type": "code",
   "execution_count": 90,
   "id": "e3069861",
   "metadata": {
    "id": "e3069861"
   },
   "outputs": [
    {
     "name": "stdout",
     "output_type": "stream",
     "text": [
      "All numbers are even.\n"
     ]
    }
   ],
   "source": [
    "# Exercise 34\n",
    "def all_even(numbers):\n",
    "    return all(num % 2 == 0 for num in numbers)\n",
    "\n",
    "numbers = list(map(int, \"2 4 6 8 10\".split()))\n",
    "if all_even(numbers):\n",
    "    print(\"All numbers are even.\")\n",
    "else:\n",
    "    print(\"Not all numbers are even.\")"
   ]
  },
  {
   "cell_type": "markdown",
   "id": "f19e5362",
   "metadata": {
    "id": "f19e5362"
   },
   "source": [
    "\n",
    "---\n",
    "\n",
    "### Exercise 35:\n",
    "Write a Python program that checks if a word is longer than a given length.\n"
   ]
  },
  {
   "cell_type": "code",
   "execution_count": 96,
   "id": "491df226",
   "metadata": {
    "id": "491df226"
   },
   "outputs": [
    {
     "name": "stdout",
     "output_type": "stream",
     "text": [
      "\"Marriage\" is not longer than \"Knowledge\".\n"
     ]
    }
   ],
   "source": [
    "# Exercise 35\n",
    "def is_word_longer_than(word1, word2):\n",
    "    return len(word1) > len(word2)\n",
    "\n",
    "word = \"Marriage\"\n",
    "length = \"Knowledge\"\n",
    "\n",
    "if is_word_longer_than(word, length):\n",
    "    print(f'\"{word}\" is longer than \"{length}\".')\n",
    "else:\n",
    "    print(f'\"{word}\" is not longer than \"{length}\".')"
   ]
  },
  {
   "cell_type": "markdown",
   "id": "68956c6c",
   "metadata": {
    "id": "68956c6c"
   },
   "source": [
    "\n",
    "---\n",
    "\n",
    "### Exercise 36:\n",
    "Write a Python program that checks if a list contains only positive numbers.\n"
   ]
  },
  {
   "cell_type": "code",
   "execution_count": 98,
   "id": "09112e89",
   "metadata": {
    "id": "09112e89"
   },
   "outputs": [
    {
     "name": "stdout",
     "output_type": "stream",
     "text": [
      "Not all numbers are positive.\n"
     ]
    }
   ],
   "source": [
    "# Exercise 36\n",
    "def all_positive(numbers):\n",
    "    return all(num > 0 for num in numbers)\n",
    "\n",
    "numbers = list(map(int, \"-2 -1 4 8 10 15\".split()))\n",
    "if all_positive(numbers):\n",
    "    print(\"All numbers are positive.\")\n",
    "else:\n",
    "    print(\"Not all numbers are positive.\")"
   ]
  },
  {
   "cell_type": "markdown",
   "id": "14f0333b",
   "metadata": {
    "id": "14f0333b"
   },
   "source": [
    "\n",
    "---\n",
    "\n",
    "### Exercise 37:\n",
    "Write a Python function that checks if a year is a century year (i.e., divisible by 100).\n"
   ]
  },
  {
   "cell_type": "code",
   "execution_count": 106,
   "id": "9a0ee8fa",
   "metadata": {
    "id": "9a0ee8fa"
   },
   "outputs": [
    {
     "name": "stdout",
     "output_type": "stream",
     "text": [
      "-100 is a century year.\n"
     ]
    }
   ],
   "source": [
    "# Exercise 37\n",
    "def is_century_year(year):\n",
    "    return year % 100 == 0\n",
    "\n",
    "year = int(1950-2050)\n",
    "if is_century_year(year):\n",
    "    print(f\"{year} is a century year.\")\n",
    "else:\n",
    "    print(f\"{year} is not a century year.\")"
   ]
  },
  {
   "cell_type": "markdown",
   "id": "6271bb93",
   "metadata": {
    "id": "6271bb93"
   },
   "source": [
    "\n",
    "---\n",
    "\n",
    "### Exercise 38:\n",
    "Write a Python program that checks if the sum of a list of numbers is greater than 100.\n"
   ]
  },
  {
   "cell_type": "code",
   "execution_count": 108,
   "id": "6ddf783b",
   "metadata": {
    "id": "6ddf783b"
   },
   "outputs": [
    {
     "name": "stdout",
     "output_type": "stream",
     "text": [
      "The sum of the numbers is greater than 100.\n"
     ]
    }
   ],
   "source": [
    "# Exercise 38\n",
    "def is_sum_greater_than_100(numbers):\n",
    "    return sum(numbers) > 100\n",
    "\n",
    "numbers = list(map(int, \"3 7 19  49 20 34 4\".split()))\n",
    "if is_sum_greater_than_100(numbers):\n",
    "    print(\"The sum of the numbers is greater than 100.\")\n",
    "else:\n",
    "    print(\"The sum of the numbers is not greater than 100.\")\n"
   ]
  },
  {
   "cell_type": "markdown",
   "id": "8a8b88a8",
   "metadata": {
    "id": "8a8b88a8"
   },
   "source": [
    "\n",
    "---\n",
    "\n",
    "### Exercise 39:\n",
    "Write a Python function that checks if a given word is a substring of another string.\n"
   ]
  },
  {
   "cell_type": "code",
   "execution_count": 110,
   "id": "2d077065",
   "metadata": {
    "id": "2d077065"
   },
   "outputs": [
    {
     "name": "stdout",
     "output_type": "stream",
     "text": [
      "\"Manager\" is not a substring of \"Managing\".\n"
     ]
    }
   ],
   "source": [
    "# Exercise 39\n",
    "def is_substring(word, string):\n",
    "    return word in string\n",
    "\n",
    "string = \"Managing\"\n",
    "word = \"Manager\"\n",
    "\n",
    "if is_substring(word, string):\n",
    "    print(f'\"{word}\" is a substring of \"{string}\".')\n",
    "else:\n",
    "    print(f'\"{word}\" is not a substring of \"{string}\".')"
   ]
  },
  {
   "cell_type": "markdown",
   "id": "b21a3bd9",
   "metadata": {
    "id": "b21a3bd9"
   },
   "source": [
    "\n",
    "---\n",
    "\n",
    "### Exercise 40:\n",
    "Write a Python program that checks if a number is a power of 2.\n"
   ]
  },
  {
   "cell_type": "code",
   "execution_count": 112,
   "id": "fa1ccd70",
   "metadata": {
    "id": "fa1ccd70"
   },
   "outputs": [
    {
     "name": "stdout",
     "output_type": "stream",
     "text": [
      "-60 is not a power of 2.\n"
     ]
    }
   ],
   "source": [
    "# Exercise 40\n",
    "def is_power_of_two(n):\n",
    "    if n <= 0:\n",
    "        return False\n",
    "    return (n & (n - 1)) == 0\n",
    "\n",
    "number = int(40-100)\n",
    "if is_power_of_two(number):\n",
    "    print(f\"{number} is a power of 2.\")\n",
    "else:\n",
    "    print(f\"{number} is not a power of 2.\")"
   ]
  },
  {
   "cell_type": "markdown",
   "id": "5ecd119f",
   "metadata": {
    "id": "5ecd119f"
   },
   "source": [
    "\n",
    "---\n",
    "\n",
    "### Exercise 41:\n",
    "Write a Python function that checks if a string contains no spaces.\n"
   ]
  },
  {
   "cell_type": "code",
   "execution_count": 114,
   "id": "8017833e",
   "metadata": {
    "id": "8017833e"
   },
   "outputs": [
    {
     "name": "stdout",
     "output_type": "stream",
     "text": [
      "The string contains no spaces.\n"
     ]
    }
   ],
   "source": [
    "# Exercise 41\n",
    "def has_no_spaces(s):\n",
    "    return ' ' not in s\n",
    "\n",
    "text = \"Meanwhile\"\n",
    "if has_no_spaces(text):\n",
    "    print(\"The string contains no spaces.\")\n",
    "else:\n",
    "    print(\"The string contains spaces.\")"
   ]
  },
  {
   "cell_type": "markdown",
   "id": "9b3c2803",
   "metadata": {
    "id": "9b3c2803"
   },
   "source": [
    "\n",
    "---\n",
    "\n",
    "### Exercise 42:\n",
    "Write a Python program that prints \"Yes\" if a number is divisible by both 2 and 3, otherwise it prints \"No.\"\n"
   ]
  },
  {
   "cell_type": "code",
   "execution_count": 116,
   "id": "cdbf39a0",
   "metadata": {
    "id": "cdbf39a0"
   },
   "outputs": [
    {
     "name": "stdout",
     "output_type": "stream",
     "text": [
      "No\n"
     ]
    }
   ],
   "source": [
    "# Exercise 42\n",
    "def is_divisible_by_2_and_3(n):\n",
    "    return n % 2 == 0 and n % 3 == 0\n",
    "\n",
    "number = int(100)\n",
    "if is_divisible_by_2_and_3(number):\n",
    "    print(\"Yes\")\n",
    "else:\n",
    "    print(\"No\")"
   ]
  },
  {
   "cell_type": "markdown",
   "id": "5a691fcf",
   "metadata": {
    "id": "5a691fcf"
   },
   "source": [
    "\n",
    "---\n",
    "\n",
    "### Exercise 43:\n",
    "Write a Python program that checks if a number is a palindrome.\n"
   ]
  },
  {
   "cell_type": "code",
   "execution_count": 118,
   "id": "e7528a0b",
   "metadata": {
    "id": "e7528a0b"
   },
   "outputs": [
    {
     "name": "stdout",
     "output_type": "stream",
     "text": [
      "100 is not a palindrome.\n"
     ]
    }
   ],
   "source": [
    "# Exercise 43\n",
    "def is_palindrome_number(n):\n",
    "    original = str(n)\n",
    "    reversed_num = original[::-1]\n",
    "    return original == reversed_num\n",
    "\n",
    "number = \"100\"\n",
    "if is_palindrome_number(number):\n",
    "    print(f\"{number} is a palindrome.\")\n",
    "else:\n",
    "    print(f\"{number} is not a palindrome.\")"
   ]
  },
  {
   "cell_type": "markdown",
   "id": "49dfa276",
   "metadata": {
    "id": "49dfa276"
   },
   "source": [
    "\n",
    "---\n",
    "\n",
    "### Exercise 44:\n",
    "Write a Python function that checks if a string is made of only lowercase letters.\n"
   ]
  },
  {
   "cell_type": "code",
   "execution_count": 120,
   "id": "2aa39193",
   "metadata": {
    "id": "2aa39193"
   },
   "outputs": [
    {
     "name": "stdout",
     "output_type": "stream",
     "text": [
      "The string contains only lowercase letters.\n"
     ]
    }
   ],
   "source": [
    "# Exercise 44\n",
    "def is_all_lowercase(s):\n",
    "    return s.islower()\n",
    "\n",
    "text = \"memory\"\n",
    "if is_all_lowercase(text):\n",
    "    print(\"The string contains only lowercase letters.\")\n",
    "else:\n",
    "    print(\"The string does not contain only lowercase letters.\")"
   ]
  },
  {
   "cell_type": "markdown",
   "id": "e5ba21ba",
   "metadata": {
    "id": "e5ba21ba"
   },
   "source": [
    "\n",
    "---\n",
    "\n",
    "### Exercise 45:\n",
    "Write a Python program that checks if a string starts with a specific prefix.\n"
   ]
  },
  {
   "cell_type": "code",
   "execution_count": 122,
   "id": "e6670049",
   "metadata": {
    "id": "e6670049"
   },
   "outputs": [
    {
     "name": "stdout",
     "output_type": "stream",
     "text": [
      "The string starts with the prefix \"Know\".\n"
     ]
    }
   ],
   "source": [
    "# Exercise 45\n",
    "def starts_with_prefix(string, prefix):\n",
    "    return string.startswith(prefix)\n",
    "\n",
    "string = \"Knowledge\"\n",
    "prefix = \"Know\"\n",
    "\n",
    "if starts_with_prefix(string, prefix):\n",
    "    print(f'The string starts with the prefix \"{prefix}\".')\n",
    "else:\n",
    "    print(f'The string does not start with the prefix \"{prefix}\".')"
   ]
  },
  {
   "cell_type": "markdown",
   "id": "1ee0a3b5",
   "metadata": {
    "id": "1ee0a3b5"
   },
   "source": [
    "\n",
    "---\n",
    "\n",
    "### Exercise 46:\n",
    "Write a Python function that checks if a number is divisible by any number in a given list.\n"
   ]
  },
  {
   "cell_type": "code",
   "execution_count": 124,
   "id": "7d01ccf9",
   "metadata": {
    "id": "7d01ccf9"
   },
   "outputs": [
    {
     "name": "stdout",
     "output_type": "stream",
     "text": [
      "100 is divisible by at least one number in the list.\n"
     ]
    }
   ],
   "source": [
    "# Exercise 46\n",
    "def is_divisible_by_any(number, divisors):\n",
    "    return any(number % d == 0 for d in divisors if d != 0)\n",
    "\n",
    "number = int(100)\n",
    "divisors = list(map(int, \"2 5 10\".split()))\n",
    "\n",
    "if is_divisible_by_any(number, divisors):\n",
    "    print(f\"{number} is divisible by at least one number in the list.\")\n",
    "else:\n",
    "    print(f\"{number} is not divisible by any number in the list.\")"
   ]
  },
  {
   "cell_type": "markdown",
   "id": "1563300f",
   "metadata": {
    "id": "1563300f"
   },
   "source": [
    "\n",
    "---\n",
    "\n",
    "### Exercise 47:\n",
    "Write a Python program that prints \"Yes\" if a string has more than one occurrence of the same letter.\n"
   ]
  },
  {
   "cell_type": "code",
   "execution_count": 126,
   "id": "923dcbc1",
   "metadata": {
    "id": "923dcbc1"
   },
   "outputs": [
    {
     "name": "stdout",
     "output_type": "stream",
     "text": [
      "Yes\n"
     ]
    }
   ],
   "source": [
    "# Exercise 47\n",
    "def has_duplicate_letters(s):\n",
    "    seen = set()\n",
    "    for char in s:\n",
    "        if char.isalpha():  # Only consider letters\n",
    "            if char in seen:\n",
    "                return True\n",
    "            seen.add(char)\n",
    "    return False\n",
    "\n",
    "text = \"remembering\"\n",
    "\n",
    "if has_duplicate_letters(text):\n",
    "    print(\"Yes\")\n",
    "else:\n",
    "    print(\"No\")"
   ]
  },
  {
   "cell_type": "markdown",
   "id": "ecfb7eba",
   "metadata": {
    "id": "ecfb7eba"
   },
   "source": [
    "\n",
    "---\n",
    "\n",
    "### Exercise 48:\n",
    "Write a Python function that checks if a number is prime by dividing it by numbers up to its square root.\n"
   ]
  },
  {
   "cell_type": "code",
   "execution_count": 128,
   "id": "3492a570",
   "metadata": {
    "id": "3492a570"
   },
   "outputs": [
    {
     "name": "stdout",
     "output_type": "stream",
     "text": [
      "100 is not a prime number.\n"
     ]
    }
   ],
   "source": [
    "# Exercise 48\n",
    "import math\n",
    "\n",
    "def is_prime(n):\n",
    "    if n <= 1:\n",
    "        return False\n",
    "    for i in range(2, int(math.isqrt(n)) + 1):\n",
    "        if n % i == 0:\n",
    "            return False\n",
    "    return True\n",
    "\n",
    "number = int(100)\n",
    "if is_prime(number):\n",
    "    print(f\"{number} is a prime number.\")\n",
    "else:\n",
    "    print(f\"{number} is not a prime number.\")"
   ]
  },
  {
   "cell_type": "markdown",
   "id": "efb3508c",
   "metadata": {
    "id": "efb3508c"
   },
   "source": [
    "\n",
    "---\n",
    "\n",
    "### Exercise 49:\n",
    "Write a Python program that checks if a number is within 1 of a multiple of 10.\n"
   ]
  },
  {
   "cell_type": "code",
   "execution_count": 130,
   "id": "fc272cc0",
   "metadata": {
    "id": "fc272cc0"
   },
   "outputs": [
    {
     "name": "stdout",
     "output_type": "stream",
     "text": [
      "100 is not within 1 of a multiple of 10.\n"
     ]
    }
   ],
   "source": [
    "# Exercise 49\n",
    "def is_within_1_of_multiple_of_10(n):\n",
    "    return n % 10 == 1 or n % 10 == 9\n",
    "\n",
    "number = int(100)\n",
    "if is_within_1_of_multiple_of_10(number):\n",
    "    print(f\"{number} is within 1 of a multiple of 10.\")\n",
    "else:\n",
    "    print(f\"{number} is not within 1 of a multiple of 10.\")"
   ]
  },
  {
   "cell_type": "markdown",
   "id": "8c58ab68",
   "metadata": {
    "id": "8c58ab68"
   },
   "source": [
    "\n",
    "---\n",
    "\n",
    "### Exercise 50:\n",
    "Write a Python program that prints \"In range\" if a number is between 10 and 20 (inclusive), otherwise it prints \"Out of range.\"\n"
   ]
  },
  {
   "cell_type": "code",
   "execution_count": 138,
   "id": "24ea2036",
   "metadata": {
    "id": "24ea2036"
   },
   "outputs": [
    {
     "name": "stdout",
     "output_type": "stream",
     "text": [
      "Out of range\n"
     ]
    }
   ],
   "source": [
    "# Exercise 50\n",
    "def check_range(n):\n",
    "    if 10 <= n <= 20:\n",
    "        print(\"In range\")\n",
    "    else:\n",
    "        print(\"Out of range\")\n",
    "\n",
    "number = int(100)\n",
    "check_range(number)"
   ]
  },
  {
   "cell_type": "markdown",
   "id": "87ccd774",
   "metadata": {
    "id": "87ccd774"
   },
   "source": [
    "\n",
    "---"
   ]
  }
 ],
 "metadata": {
  "colab": {
   "provenance": []
  },
  "kernelspec": {
   "display_name": "Python [conda env:base] *",
   "language": "python",
   "name": "conda-base-py"
  },
  "language_info": {
   "codemirror_mode": {
    "name": "ipython",
    "version": 3
   },
   "file_extension": ".py",
   "mimetype": "text/x-python",
   "name": "python",
   "nbconvert_exporter": "python",
   "pygments_lexer": "ipython3",
   "version": "3.12.4"
  }
 },
 "nbformat": 4,
 "nbformat_minor": 5
}
