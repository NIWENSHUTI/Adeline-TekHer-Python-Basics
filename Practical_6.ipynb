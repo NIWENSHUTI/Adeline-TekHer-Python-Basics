{
 "cells": [
  {
   "cell_type": "markdown",
   "id": "bd6f6199",
   "metadata": {},
   "source": [
    "# Practical_6: Numpy"
   ]
  },
  {
   "cell_type": "markdown",
   "id": "de325ed6",
   "metadata": {},
   "source": [
    "---\n",
    "\n",
    "### Exercise 1:\n",
    "Create a NumPy array of integers from 1 to 10.\n"
   ]
  },
  {
   "cell_type": "code",
   "execution_count": 1,
   "id": "9b904697",
   "metadata": {},
   "outputs": [
    {
     "name": "stdout",
     "output_type": "stream",
     "text": [
      "[ 1  2  3  4  5  6  7  8  9 10]\n"
     ]
    }
   ],
   "source": [
    "# Exercise 1\n",
    "import numpy as np\n",
    "\n",
    "array = np.arange(1, 11)\n",
    "print(array)"
   ]
  },
  {
   "cell_type": "markdown",
   "id": "745710c7",
   "metadata": {},
   "source": [
    "\n",
    "---\n",
    "\n",
    "### Exercise 2:\n",
    "Create a 3x3 NumPy array filled with zeros.\n"
   ]
  },
  {
   "cell_type": "code",
   "execution_count": 3,
   "id": "875235f1",
   "metadata": {},
   "outputs": [
    {
     "name": "stdout",
     "output_type": "stream",
     "text": [
      "[[0. 0. 0.]\n",
      " [0. 0. 0.]\n",
      " [0. 0. 0.]]\n"
     ]
    }
   ],
   "source": [
    "# Exercise 2\n",
    "import numpy as np\n",
    "\n",
    "zeros_array = np.zeros((3, 3))\n",
    "print(zeros_array)"
   ]
  },
  {
   "cell_type": "markdown",
   "id": "a542ea80",
   "metadata": {},
   "source": [
    "\n",
    "---\n",
    "\n",
    "### Exercise 3:\n",
    "Create a NumPy array of 10 evenly spaced numbers between 0 and 5.\n"
   ]
  },
  {
   "cell_type": "code",
   "execution_count": 5,
   "id": "97c6ba4a",
   "metadata": {},
   "outputs": [
    {
     "name": "stdout",
     "output_type": "stream",
     "text": [
      "[0.         0.55555556 1.11111111 1.66666667 2.22222222 2.77777778\n",
      " 3.33333333 3.88888889 4.44444444 5.        ]\n"
     ]
    }
   ],
   "source": [
    "# Exercise 3\n",
    "import numpy as np\n",
    "\n",
    "evenly_spaced = np.linspace(0, 5, 10)\n",
    "print(evenly_spaced)"
   ]
  },
  {
   "cell_type": "markdown",
   "id": "e92d80cc",
   "metadata": {},
   "source": [
    "\n",
    "---\n",
    "\n",
    "### Exercise 4:\n",
    "Create a 5x5 identity matrix using NumPy.\n"
   ]
  },
  {
   "cell_type": "code",
   "execution_count": 7,
   "id": "c5213bd2",
   "metadata": {},
   "outputs": [
    {
     "name": "stdout",
     "output_type": "stream",
     "text": [
      "[[1. 0. 0. 0. 0.]\n",
      " [0. 1. 0. 0. 0.]\n",
      " [0. 0. 1. 0. 0.]\n",
      " [0. 0. 0. 1. 0.]\n",
      " [0. 0. 0. 0. 1.]]\n"
     ]
    }
   ],
   "source": [
    "# Exercise 4\n",
    "import numpy as np\n",
    "\n",
    "identity_matrix = np.identity(5)\n",
    "print(identity_matrix)"
   ]
  },
  {
   "cell_type": "markdown",
   "id": "a16f88e7",
   "metadata": {},
   "source": [
    "\n",
    "---\n",
    "\n",
    "### Exercise 5:\n",
    "Create a 4x4 matrix with random values between 0 and 1.\n"
   ]
  },
  {
   "cell_type": "code",
   "execution_count": 9,
   "id": "2b16922b",
   "metadata": {},
   "outputs": [
    {
     "name": "stdout",
     "output_type": "stream",
     "text": [
      "[[0.25459042 0.84406289 0.10468868 0.95207396]\n",
      " [0.93424771 0.09339811 0.94719865 0.7145747 ]\n",
      " [0.10147312 0.93574975 0.12555292 0.89543624]\n",
      " [0.69932279 0.29495349 0.86494193 0.75785413]]\n"
     ]
    }
   ],
   "source": [
    "# Exercise 5\n",
    "import numpy as np\n",
    "\n",
    "random_matrix = np.random.rand(4, 4)\n",
    "print(random_matrix)"
   ]
  },
  {
   "cell_type": "markdown",
   "id": "cc9af8fd",
   "metadata": {},
   "source": [
    "\n",
    "---\n",
    "\n",
    "### Exercise 6:\n",
    "Find the shape of a NumPy array.\n"
   ]
  },
  {
   "cell_type": "code",
   "execution_count": 11,
   "id": "359864d2",
   "metadata": {},
   "outputs": [
    {
     "name": "stdout",
     "output_type": "stream",
     "text": [
      "(2, 3)\n"
     ]
    }
   ],
   "source": [
    "# Exercise 6\n",
    "import numpy as np\n",
    "\n",
    "array = np.array([[1, 2, 3], [4, 5, 6]])\n",
    "print(array.shape)"
   ]
  },
  {
   "cell_type": "markdown",
   "id": "ada0aff6",
   "metadata": {},
   "source": [
    "\n",
    "---\n",
    "\n",
    "### Exercise 7:\n",
    "Reshape a 1D NumPy array of 16 elements into a 4x4 matrix.\n"
   ]
  },
  {
   "cell_type": "code",
   "execution_count": 13,
   "id": "43fcb4b3",
   "metadata": {},
   "outputs": [
    {
     "name": "stdout",
     "output_type": "stream",
     "text": [
      "[[ 0  1  2  3]\n",
      " [ 4  5  6  7]\n",
      " [ 8  9 10 11]\n",
      " [12 13 14 15]]\n"
     ]
    }
   ],
   "source": [
    "# Exercise 7\n",
    "import numpy as np\n",
    "\n",
    "# Create a 1D array with 16 elements\n",
    "array_1d = np.arange(16)\n",
    "\n",
    "# Reshape to 4x4\n",
    "array_2d = array_1d.reshape((4, 4))\n",
    "\n",
    "print(array_2d)"
   ]
  },
  {
   "cell_type": "markdown",
   "id": "d384142a",
   "metadata": {},
   "source": [
    "\n",
    "---\n",
    "\n",
    "### Exercise 8:\n",
    "Find the data type of the elements in a NumPy array.\n"
   ]
  },
  {
   "cell_type": "code",
   "execution_count": 15,
   "id": "bf4dca5a",
   "metadata": {},
   "outputs": [
    {
     "name": "stdout",
     "output_type": "stream",
     "text": [
      "int32\n"
     ]
    }
   ],
   "source": [
    "# Exercise 8\n",
    "import numpy as np\n",
    "\n",
    "array = np.array([1, 2, 3, 4])\n",
    "print(array.dtype)"
   ]
  },
  {
   "cell_type": "markdown",
   "id": "c295ca54",
   "metadata": {},
   "source": [
    "\n",
    "---\n",
    "\n",
    "### Exercise 9:\n",
    "Create a NumPy array of integers from 1 to 100 and find all even numbers in the array.\n"
   ]
  },
  {
   "cell_type": "code",
   "execution_count": 17,
   "id": "28a61c5e",
   "metadata": {},
   "outputs": [
    {
     "name": "stdout",
     "output_type": "stream",
     "text": [
      "[  2   4   6   8  10  12  14  16  18  20  22  24  26  28  30  32  34  36\n",
      "  38  40  42  44  46  48  50  52  54  56  58  60  62  64  66  68  70  72\n",
      "  74  76  78  80  82  84  86  88  90  92  94  96  98 100]\n"
     ]
    }
   ],
   "source": [
    "# Exercise 9\n",
    "import numpy as np\n",
    "\n",
    "# Create array from 1 to 100\n",
    "array = np.arange(1, 101)\n",
    "\n",
    "# Filter even numbers\n",
    "even_numbers = array[array % 2 == 0]\n",
    "\n",
    "print(even_numbers)"
   ]
  },
  {
   "cell_type": "markdown",
   "id": "72103956",
   "metadata": {},
   "source": [
    "\n",
    "---\n",
    "\n",
    "### Exercise 10:\n",
    "Generate a 6x6 matrix of random integers between 10 and 50.\n"
   ]
  },
  {
   "cell_type": "code",
   "execution_count": 19,
   "id": "ce04300e",
   "metadata": {},
   "outputs": [
    {
     "name": "stdout",
     "output_type": "stream",
     "text": [
      "[[33 21 48 28 15 30]\n",
      " [28 34 44 12 49 49]\n",
      " [12 38 20 19 27 22]\n",
      " [27 22 22 18 45 23]\n",
      " [25 21 10 48 27 36]\n",
      " [37 10 37 41 20 12]]\n"
     ]
    }
   ],
   "source": [
    "# Exercise 10\n",
    "import numpy as np\n",
    "\n",
    "random_matrix = np.random.randint(10, 51, size=(6, 6))\n",
    "print(random_matrix)"
   ]
  },
  {
   "cell_type": "markdown",
   "id": "3dd1a085",
   "metadata": {},
   "source": [
    "\n",
    "---\n",
    "\n",
    "### Exercise 11:\n",
    "Slice a 2D NumPy array to extract a submatrix.\n"
   ]
  },
  {
   "cell_type": "code",
   "execution_count": 21,
   "id": "b8fc90ba",
   "metadata": {},
   "outputs": [
    {
     "name": "stdout",
     "output_type": "stream",
     "text": [
      "Original array:\n",
      " [[ 1  2  3  4  5]\n",
      " [ 6  7  8  9 10]\n",
      " [11 12 13 14 15]\n",
      " [16 17 18 19 20]\n",
      " [21 22 23 24 25]]\n",
      "\n",
      "Submatrix:\n",
      " [[ 8  9 10]\n",
      " [13 14 15]\n",
      " [18 19 20]]\n"
     ]
    }
   ],
   "source": [
    "# Exercise 11\n",
    "import numpy as np\n",
    "\n",
    "# Create a 5x5 array for demonstration\n",
    "array = np.arange(1, 26).reshape(5, 5)\n",
    "print(\"Original array:\\n\", array)\n",
    "\n",
    "# Extract a 3x3 submatrix from rows 1 to 3 and columns 2 to 4 (0-based indexing)\n",
    "submatrix = array[1:4, 2:5]\n",
    "print(\"\\nSubmatrix:\\n\", submatrix)"
   ]
  },
  {
   "cell_type": "markdown",
   "id": "73a4344c",
   "metadata": {},
   "source": [
    "\n",
    "---\n",
    "\n",
    "### Exercise 12:\n",
    "Calculate the sum of all elements in a NumPy array.\n"
   ]
  },
  {
   "cell_type": "code",
   "execution_count": 23,
   "id": "3c417ff3",
   "metadata": {},
   "outputs": [
    {
     "name": "stdout",
     "output_type": "stream",
     "text": [
      "21\n"
     ]
    }
   ],
   "source": [
    "# Exercise 12\n",
    "import numpy as np\n",
    "\n",
    "array = np.array([[1, 2, 3], [4, 5, 6]])\n",
    "total_sum = array.sum()\n",
    "print(total_sum)"
   ]
  },
  {
   "cell_type": "markdown",
   "id": "c2346362",
   "metadata": {},
   "source": [
    "\n",
    "---\n",
    "\n",
    "### Exercise 13:\n",
    "Calculate the mean, median, and standard deviation of a NumPy array.\n"
   ]
  },
  {
   "cell_type": "code",
   "execution_count": 25,
   "id": "95e57182",
   "metadata": {},
   "outputs": [
    {
     "name": "stdout",
     "output_type": "stream",
     "text": [
      "Mean: 5.0\n",
      "Median: 5.0\n",
      "Standard Deviation: 2.8284271247461903\n"
     ]
    }
   ],
   "source": [
    "# Exercise 13\n",
    "import numpy as np\n",
    "\n",
    "array = np.array([1, 3, 5, 7, 9])\n",
    "\n",
    "mean = np.mean(array)\n",
    "median = np.median(array)\n",
    "std_dev = np.std(array)\n",
    "\n",
    "print(\"Mean:\", mean)\n",
    "print(\"Median:\", median)\n",
    "print(\"Standard Deviation:\", std_dev)"
   ]
  },
  {
   "cell_type": "markdown",
   "id": "67a4fdbd",
   "metadata": {},
   "source": [
    "\n",
    "---\n",
    "\n",
    "### Exercise 14:\n",
    "Find the maximum and minimum values in a NumPy array.\n"
   ]
  },
  {
   "cell_type": "code",
   "execution_count": 27,
   "id": "7959c765",
   "metadata": {},
   "outputs": [
    {
     "name": "stdout",
     "output_type": "stream",
     "text": [
      "Maximum value: 20\n",
      "Minimum value: 3\n"
     ]
    }
   ],
   "source": [
    "# Exercise 14\n",
    "import numpy as np\n",
    "\n",
    "array = np.array([10, 5, 8, 20, 3])\n",
    "\n",
    "max_value = np.max(array)  # or array.max()\n",
    "min_value = np.min(array)  # or array.min()\n",
    "\n",
    "print(\"Maximum value:\", max_value)\n",
    "print(\"Minimum value:\", min_value)"
   ]
  },
  {
   "cell_type": "markdown",
   "id": "8a705cd1",
   "metadata": {},
   "source": [
    "\n",
    "---\n",
    "\n",
    "### Exercise 15:\n",
    "Create a NumPy array of 20 random integers and find the index of the maximum value.\n"
   ]
  },
  {
   "cell_type": "code",
   "execution_count": 29,
   "id": "c6748d73",
   "metadata": {},
   "outputs": [
    {
     "name": "stdout",
     "output_type": "stream",
     "text": [
      "Array: [23 22 31 85 85 30 63 74 26 18  5 52 78 42 19 49 52 74 50 41]\n",
      "Index of maximum value: 3\n",
      "Maximum value: 85\n"
     ]
    }
   ],
   "source": [
    "# Exercise 15\n",
    "import numpy as np\n",
    "\n",
    "# Create an array of 20 random integers between 0 and 100\n",
    "array = np.random.randint(0, 101, size=20)\n",
    "\n",
    "print(\"Array:\", array)\n",
    "\n",
    "# Find the index of the maximum value\n",
    "max_index = np.argmax(array)\n",
    "print(\"Index of maximum value:\", max_index)\n",
    "print(\"Maximum value:\", array[max_index])"
   ]
  },
  {
   "cell_type": "markdown",
   "id": "467ca6ac",
   "metadata": {},
   "source": [
    "\n",
    "---\n",
    "\n",
    "### Exercise 16:\n",
    "Create a NumPy array and reverse its elements.\n"
   ]
  },
  {
   "cell_type": "code",
   "execution_count": 31,
   "id": "0a178eb6",
   "metadata": {},
   "outputs": [
    {
     "name": "stdout",
     "output_type": "stream",
     "text": [
      "Original array: [1 2 3 4 5]\n",
      "Reversed array: [5 4 3 2 1]\n"
     ]
    }
   ],
   "source": [
    "# Exercise 16\n",
    "import numpy as np\n",
    "\n",
    "# Create a sample array\n",
    "array = np.array([1, 2, 3, 4, 5])\n",
    "\n",
    "# Reverse the array\n",
    "reversed_array = array[::-1]\n",
    "\n",
    "print(\"Original array:\", array)\n",
    "print(\"Reversed array:\", reversed_array)"
   ]
  },
  {
   "cell_type": "markdown",
   "id": "b7d8ec92",
   "metadata": {},
   "source": [
    "\n",
    "---\n",
    "\n",
    "### Exercise 17:\n",
    "Create a 3x3 matrix and multiply it element-wise by another 3x3 matrix.\n"
   ]
  },
  {
   "cell_type": "code",
   "execution_count": 33,
   "id": "847ddc05",
   "metadata": {},
   "outputs": [
    {
     "name": "stdout",
     "output_type": "stream",
     "text": [
      "[[ 9 16 21]\n",
      " [24 25 24]\n",
      " [21 16  9]]\n"
     ]
    }
   ],
   "source": [
    "# Exercise 17\n",
    "import numpy as np\n",
    "\n",
    "# Create two 3x3 matrices\n",
    "matrix1 = np.array([[1, 2, 3],\n",
    "                    [4, 5, 6],\n",
    "                    [7, 8, 9]])\n",
    "\n",
    "matrix2 = np.array([[9, 8, 7],\n",
    "                    [6, 5, 4],\n",
    "                    [3, 2, 1]])\n",
    "\n",
    "# Element-wise multiplication\n",
    "result = matrix1 * matrix2\n",
    "# Alternatively: result = np.multiply(matrix1, matrix2)\n",
    "\n",
    "print(result)"
   ]
  },
  {
   "cell_type": "markdown",
   "id": "58512446",
   "metadata": {},
   "source": [
    "\n",
    "---\n",
    "\n",
    "### Exercise 18:\n",
    "Create a diagonal matrix from a given 1D array.\n"
   ]
  },
  {
   "cell_type": "code",
   "execution_count": 35,
   "id": "bd7e9321",
   "metadata": {},
   "outputs": [
    {
     "name": "stdout",
     "output_type": "stream",
     "text": [
      "[[1 0 0 0]\n",
      " [0 2 0 0]\n",
      " [0 0 3 0]\n",
      " [0 0 0 4]]\n"
     ]
    }
   ],
   "source": [
    "# Exercise 18\n",
    "import numpy as np\n",
    "\n",
    "# Given 1D array\n",
    "arr = np.array([1, 2, 3, 4])\n",
    "\n",
    "# Create diagonal matrix\n",
    "diag_matrix = np.diag(arr)\n",
    "\n",
    "print(diag_matrix)"
   ]
  },
  {
   "cell_type": "markdown",
   "id": "10be19e0",
   "metadata": {},
   "source": [
    "\n",
    "---\n",
    "\n",
    "### Exercise 19:\n",
    "Perform matrix multiplication on two 2D NumPy arrays.\n"
   ]
  },
  {
   "cell_type": "code",
   "execution_count": 37,
   "id": "c287973c",
   "metadata": {},
   "outputs": [
    {
     "name": "stdout",
     "output_type": "stream",
     "text": [
      "[[19 22]\n",
      " [43 50]]\n"
     ]
    }
   ],
   "source": [
    "# Exercise 19\n",
    "import numpy as np\n",
    "\n",
    "# Define two 2D arrays (matrices)\n",
    "A = np.array([[1, 2],\n",
    "              [3, 4]])\n",
    "\n",
    "B = np.array([[5, 6],\n",
    "              [7, 8]])\n",
    "\n",
    "# Matrix multiplication\n",
    "result = A @ B\n",
    "# Alternatively: result = np.dot(A, B)\n",
    "# Or: result = np.matmul(A, B)\n",
    "\n",
    "print(result)"
   ]
  },
  {
   "cell_type": "markdown",
   "id": "932aa100",
   "metadata": {},
   "source": [
    "\n",
    "---\n",
    "\n",
    "### Exercise 20:\n",
    "Flatten a 2D NumPy array into a 1D array.\n"
   ]
  },
  {
   "cell_type": "code",
   "execution_count": 39,
   "id": "0b2a7505",
   "metadata": {},
   "outputs": [
    {
     "name": "stdout",
     "output_type": "stream",
     "text": [
      "Flattened array (flatten): [1 2 3 4 5 6]\n",
      "Flattened array (ravel): [1 2 3 4 5 6]\n"
     ]
    }
   ],
   "source": [
    "# Exercise 20\n",
    "import numpy as np\n",
    "\n",
    "# Create a 2D array\n",
    "array_2d = np.array([[1, 2, 3],\n",
    "                     [4, 5, 6]])\n",
    "\n",
    "# Flatten to 1D using flatten()\n",
    "flat_array = array_2d.flatten()\n",
    "print(\"Flattened array (flatten):\", flat_array)\n",
    "\n",
    "# Flatten to 1D using ravel()\n",
    "flat_array_ravel = array_2d.ravel()\n",
    "print(\"Flattened array (ravel):\", flat_array_ravel)"
   ]
  },
  {
   "cell_type": "markdown",
   "id": "43e4204e",
   "metadata": {},
   "source": [
    "\n",
    "---\n",
    "\n",
    "### Exercise 21:\n",
    "Stack two NumPy arrays vertically.\n"
   ]
  },
  {
   "cell_type": "code",
   "execution_count": 41,
   "id": "2fab6ed6",
   "metadata": {},
   "outputs": [
    {
     "name": "stdout",
     "output_type": "stream",
     "text": [
      "[[1 2 3]\n",
      " [4 5 6]]\n"
     ]
    }
   ],
   "source": [
    "# Exercise 21\n",
    "import numpy as np\n",
    "\n",
    "# Two 1D arrays\n",
    "a = np.array([1, 2, 3])\n",
    "b = np.array([4, 5, 6])\n",
    "\n",
    "# Stack vertically\n",
    "result = np.vstack((a, b))\n",
    "\n",
    "print(result)\n"
   ]
  },
  {
   "cell_type": "markdown",
   "id": "54a62aed",
   "metadata": {},
   "source": [
    "\n",
    "---\n",
    "\n",
    "### Exercise 22:\n",
    "Stack two NumPy arrays horizontally.\n"
   ]
  },
  {
   "cell_type": "code",
   "execution_count": 43,
   "id": "38c62fcb",
   "metadata": {},
   "outputs": [
    {
     "name": "stdout",
     "output_type": "stream",
     "text": [
      "[[1 2 5 6]\n",
      " [3 4 7 8]]\n"
     ]
    }
   ],
   "source": [
    "# Exercise 22\n",
    "import numpy as np\n",
    "# Define two arrays with the same neven_numbers\n",
    "a= np.array([[1,2],[3,4]])\n",
    "b= np.array([[5,6],[7,8]])\n",
    "\n",
    "# Horizontal stacking \n",
    "result= np.hstack((a,b))\n",
    "print(result)\n"
   ]
  },
  {
   "cell_type": "markdown",
   "id": "348ee442",
   "metadata": {},
   "source": [
    "\n",
    "---\n",
    "\n",
    "### Exercise 23:\n",
    "Split a NumPy array into multiple sub-arrays.\n"
   ]
  },
  {
   "cell_type": "code",
   "execution_count": 45,
   "id": "bb591997",
   "metadata": {},
   "outputs": [
    {
     "name": "stdout",
     "output_type": "stream",
     "text": [
      "[array([1, 2]), array([3, 4]), array([5, 6])]\n"
     ]
    }
   ],
   "source": [
    "# Exercise 23\n",
    "import numpy as np\n",
    "a= np.array([1,2,3,4,5,6])\n",
    "sub_arrays= np.split(a,3) # split into 3 equal parts \n",
    "print(sub_arrays)"
   ]
  },
  {
   "cell_type": "markdown",
   "id": "b1f38f5f",
   "metadata": {},
   "source": [
    "\n",
    "---\n",
    "\n",
    "### Exercise 24:\n",
    "Generate a random NumPy array and round each element to two decimal places.\n"
   ]
  },
  {
   "cell_type": "code",
   "execution_count": 47,
   "id": "9627a34c",
   "metadata": {},
   "outputs": [
    {
     "name": "stdout",
     "output_type": "stream",
     "text": [
      "Original array:\n",
      " [[0.98311647 0.31265575 0.66671218]\n",
      " [0.90994415 0.70065838 0.25248478]\n",
      " [0.49533337 0.51548317 0.96613598]]\n",
      "Rounded array:\n",
      " [[0.98 0.31 0.67]\n",
      " [0.91 0.7  0.25]\n",
      " [0.5  0.52 0.97]]\n"
     ]
    }
   ],
   "source": [
    "# Exercise 24\n",
    "import numpy as np\n",
    "# Generate a 3x3 array of random floats in [0,1) \n",
    "a= np.random.rand(3,3)\n",
    "\n",
    "# Round to 2 decimal places \n",
    "rounded_a= np.round(a,2)\n",
    "\n",
    "print(\"Original array:\\n\",a)\n",
    "print(\"Rounded array:\\n\",rounded_a)"
   ]
  },
  {
   "cell_type": "markdown",
   "id": "33eff49a",
   "metadata": {},
   "source": [
    "\n",
    "---\n",
    "\n",
    "### Exercise 25:\n",
    "Find the unique elements of a NumPy array.\n"
   ]
  },
  {
   "cell_type": "code",
   "execution_count": 49,
   "id": "820d6014",
   "metadata": {},
   "outputs": [
    {
     "name": "stdout",
     "output_type": "stream",
     "text": [
      "Unique elements: [1 2 3 4 5]\n"
     ]
    }
   ],
   "source": [
    "# Exercise 25\n",
    "import numpy as np \n",
    "a= np.array([1,2,3,2,4,1,5])\n",
    "unique_elements= np.unique(a) \n",
    "print(\"Unique elements:\",unique_elements)"
   ]
  },
  {
   "cell_type": "markdown",
   "id": "a82dfd26",
   "metadata": {},
   "source": [
    "\n",
    "---\n",
    "\n",
    "### Exercise 26:\n",
    "Replace all elements in a NumPy array that are less than a specific value with that value.\n"
   ]
  },
  {
   "cell_type": "code",
   "execution_count": 51,
   "id": "9317d8ff",
   "metadata": {},
   "outputs": [
    {
     "name": "stdout",
     "output_type": "stream",
     "text": [
      "[[5 7 5]\n",
      " [8 5 9]]\n"
     ]
    }
   ],
   "source": [
    "# Exercise 26\n",
    "import numpy as np \n",
    "a= np.array([[3,7,1],[8,2,9]])\n",
    "\n",
    "# Replace values less than 5 with 5 \n",
    "a[a<5]=5\n",
    "print(a)"
   ]
  },
  {
   "cell_type": "markdown",
   "id": "0b211e1c",
   "metadata": {},
   "source": [
    "\n",
    "---\n",
    "\n",
    "### Exercise 27:\n",
    "Find the cumulative sum of the elements in a NumPy array.\n"
   ]
  },
  {
   "cell_type": "code",
   "execution_count": 53,
   "id": "d03b7264",
   "metadata": {},
   "outputs": [
    {
     "name": "stdout",
     "output_type": "stream",
     "text": [
      "[ 1  3  6 10]\n"
     ]
    }
   ],
   "source": [
    "# Exercise 27\n",
    "import numpy as np\n",
    "a= np.array([1,2,3,4])\n",
    "cumulative_sum= np.cumsum(a) \n",
    "print(cumulative_sum)"
   ]
  },
  {
   "cell_type": "markdown",
   "id": "837642b7",
   "metadata": {},
   "source": [
    "\n",
    "---\n",
    "\n",
    "### Exercise 28:\n",
    "Create a NumPy array and find the number of non-zero elements in it.\n"
   ]
  },
  {
   "cell_type": "code",
   "execution_count": 55,
   "id": "fa2565c6",
   "metadata": {},
   "outputs": [
    {
     "name": "stdout",
     "output_type": "stream",
     "text": [
      "Number of non-zero elements: 5\n"
     ]
    }
   ],
   "source": [
    "# Exercise 28\n",
    "import numpy as np\n",
    "\n",
    "# create a sample array \n",
    "a= np.array([[0,1,2],[3,0,0],[4,5,0]]) \n",
    "\n",
    "# count non_zero elements \n",
    "non_zero_count= np.count_nonzero(a)\n",
    "print(\"Number of non-zero elements:\",non_zero_count)"
   ]
  },
  {
   "cell_type": "markdown",
   "id": "7d1f3704",
   "metadata": {},
   "source": [
    "\n",
    "---\n",
    "\n",
    "### Exercise 29:\n",
    "Create a NumPy array of random integers and sort it in ascending order.\n"
   ]
  },
  {
   "cell_type": "code",
   "execution_count": 57,
   "id": "dfa23a6e",
   "metadata": {},
   "outputs": [
    {
     "name": "stdout",
     "output_type": "stream",
     "text": [
      "Orgininal array: [ 2 73  3 71 83 59 11 12 86 92]\n",
      "Sorted array:  [ 2  3 11 12 59 71 73 83 86 92]\n"
     ]
    }
   ],
   "source": [
    "# Exercise 29\n",
    "import numpy as np \n",
    "# create a 1D array of 10 random integers between 0 and 100 \n",
    "a= np.random.randint(0,100, size=10) \n",
    "\n",
    "# sort the array in ascending order \n",
    "sorted_a= np.sort(a) \n",
    "\n",
    "print(\"Orgininal array:\",a)\n",
    "print(\"Sorted array: \",sorted_a)"
   ]
  },
  {
   "cell_type": "markdown",
   "id": "295b7ea8",
   "metadata": {},
   "source": [
    "\n",
    "---\n",
    "\n",
    "### Exercise 30:\n",
    "Find the row-wise and column-wise sum of a 3x3 matrix.\n"
   ]
  },
  {
   "cell_type": "code",
   "execution_count": 59,
   "id": "963df701",
   "metadata": {},
   "outputs": [
    {
     "name": "stdout",
     "output_type": "stream",
     "text": [
      "Matrix:\n",
      " [[1 2 3]\n",
      " [4 5 6]\n",
      " [7 8 9]]\n",
      "Row-wise sum:\n",
      " [ 6 15 24]\n",
      "Column-wise sum:\n",
      " [12 15 18]\n"
     ]
    }
   ],
   "source": [
    "# Exercise 30\n",
    "import numpy as np \n",
    "# create a 3x3 mmatrix \n",
    "a= np.array([[1,2,3],[4,5,6],[7,8,9]])\n",
    "\n",
    "# row-wise sum (sum across columns, axis=1)\n",
    "row_sum= np.sum(a,axis=1)\n",
    "\n",
    "# column-wise sum(sum across rows, axis=0)\n",
    "col_sum= np.sum(a,axis=0)\n",
    "\n",
    "print(\"Matrix:\\n\",a)\n",
    "print(\"Row-wise sum:\\n\",row_sum)\n",
    "print(\"Column-wise sum:\\n\",col_sum)"
   ]
  },
  {
   "cell_type": "markdown",
   "id": "158756fa",
   "metadata": {},
   "source": [
    "\n",
    "---\n",
    "\n",
    "### Exercise 31:\n",
    "Generate a 2D NumPy array with random values and normalize it (scale the values between 0 and 1).\n"
   ]
  },
  {
   "cell_type": "code",
   "execution_count": 63,
   "id": "32ba8b29",
   "metadata": {},
   "outputs": [
    {
     "name": "stdout",
     "output_type": "stream",
     "text": [
      "Orginal array:\n",
      " [[78.83302675 50.21907296 30.00055352  5.1786626 ]\n",
      " [39.78494163 73.8301211  89.98449494 85.66143605]\n",
      " [91.93337941 21.18952403 98.01287927 10.04672793]]\n",
      "\n",
      "Normalized array:\n",
      " [[0.75147638 0.45953563 0.25325132 0.        ]\n",
      " [0.35307889 0.70043303 0.86525192 0.82114487]\n",
      " [0.88513589 0.16335467 0.94716345 0.04966761]]\n"
     ]
    }
   ],
   "source": [
    "# Exercise 31\n",
    "import numpy as np\n",
    "# generate a 2D array of random values  \n",
    "a= np.random.rand(3,4)*100 # values between 0 and 100\n",
    "\n",
    "# normalize the array to range[0,1] \n",
    "normalized_a= (a-np.min(a))/ (np.max(a))\n",
    "print(\"Orginal array:\\n\",a) \n",
    "print(\"\\nNormalized array:\\n\",normalized_a)"
   ]
  },
  {
   "cell_type": "markdown",
   "id": "d3eeceaa",
   "metadata": {},
   "source": [
    "\n",
    "---\n",
    "\n",
    "### Exercise 32:\n",
    "Create two NumPy arrays and find the dot product.\n"
   ]
  },
  {
   "cell_type": "code",
   "execution_count": null,
   "id": "5722e16b",
   "metadata": {},
   "outputs": [],
   "source": [
    "# Exercise 32\n",
    "import numpy as np \n",
    "a= np.array([1,2,3])\n",
    "b= np.array([4,5,6])\n",
    "\n",
    "# find the dot product \n",
    "dot_product= np.dot(a,b) \n",
    "print(\"Dot product:\",dot_product)"
   ]
  },
  {
   "cell_type": "markdown",
   "id": "5b0c848f",
   "metadata": {},
   "source": [
    "\n",
    "---\n",
    "\n",
    "### Exercise 33:\n",
    "Find the trace of a square NumPy matrix.\n"
   ]
  },
  {
   "cell_type": "code",
   "execution_count": 65,
   "id": "6d6e90c2",
   "metadata": {},
   "outputs": [
    {
     "name": "stdout",
     "output_type": "stream",
     "text": [
      "Matrix:\n",
      " [[1 2 3]\n",
      " [4 5 6]\n",
      " [7 8 9]]\n",
      "Trace of the matrix: 15\n"
     ]
    }
   ],
   "source": [
    "# Exercise 33\n",
    "import numpy as np \n",
    "# create a 3x3 square matrix \n",
    "a= np.array([[1,2,3],[4,5,6],[7,8,9]])\n",
    "trace_val= np.trace(a) \n",
    "\n",
    "print(\"Matrix:\\n\",a)\n",
    "print(\"Trace of the matrix:\",trace_val)"
   ]
  },
  {
   "cell_type": "markdown",
   "id": "74f1f77e",
   "metadata": {},
   "source": [
    "\n",
    "---\n",
    "\n",
    "### Exercise 34:\n",
    "Create a 2D array and swap two rows.\n"
   ]
  },
  {
   "cell_type": "code",
   "execution_count": 69,
   "id": "24621129",
   "metadata": {},
   "outputs": [
    {
     "name": "stdout",
     "output_type": "stream",
     "text": [
      "Array after swapping rows 0 and 2:\n",
      "  [[7 8 9]\n",
      " [4 5 6]\n",
      " [1 2 3]]\n"
     ]
    }
   ],
   "source": [
    "# Exercise 34\n",
    "import numpy as np \n",
    "# create a 2D array \n",
    "a= np.array([[1,2,3],[4,5,6],[7,8,9]]) \n",
    "\n",
    "# swap row 0 and row 2 \n",
    "a[[0,2]]= a[[2,0]]\n",
    "print(\"Array after swapping rows 0 and 2:\\n \",a)"
   ]
  },
  {
   "cell_type": "markdown",
   "id": "7875d348",
   "metadata": {},
   "source": [
    "\n",
    "---\n",
    "\n",
    "### Exercise 35:\n",
    "Create a 1D NumPy array and convert it into a column vector.\n"
   ]
  },
  {
   "cell_type": "code",
   "execution_count": 73,
   "id": "0039acda",
   "metadata": {},
   "outputs": [
    {
     "name": "stdout",
     "output_type": "stream",
     "text": [
      "Column vector:\n",
      ", [[1]\n",
      " [2]\n",
      " [3]\n",
      " [4]\n",
      " [5]]\n"
     ]
    }
   ],
   "source": [
    "# Exercise 35\n",
    "import numpy as np \n",
    "# create a 1D array \n",
    "a= np.array([1,2,3,4,5])\n",
    "\n",
    "# convert to column vector\n",
    "column_vector= a.reshape(-1,1) \n",
    "print(\"Column vector:\\n,\", column_vector)"
   ]
  },
  {
   "cell_type": "markdown",
   "id": "234e605c",
   "metadata": {},
   "source": [
    "\n",
    "---\n",
    "\n",
    "### Exercise 36:\n",
    "Find the determinant of a 3x3 matrix.\n"
   ]
  },
  {
   "cell_type": "code",
   "execution_count": 82,
   "id": "9798d9c7",
   "metadata": {},
   "outputs": [
    {
     "name": "stdout",
     "output_type": "stream",
     "text": [
      "Determinant: -9.51619735392994e-16\n"
     ]
    }
   ],
   "source": [
    "# Exercise 36\n",
    "import numpy as np \n",
    "# define a 3x3 matrix \n",
    "a= np.array([[1,2,3],[4,5,6],[7,8,9]]) \n",
    "\n",
    "# compute the determinant \n",
    "det= np.linalg.det(a)\n",
    "\n",
    "print(\"Determinant:\",det)"
   ]
  },
  {
   "cell_type": "markdown",
   "id": "6656af00",
   "metadata": {},
   "source": [
    "\n",
    "---\n",
    "\n",
    "### Exercise 37:\n",
    "Find the eigenvalues and eigenvectors of a 2x2 matrix.\n"
   ]
  },
  {
   "cell_type": "code",
   "execution_count": 84,
   "id": "89d64421",
   "metadata": {},
   "outputs": [
    {
     "name": "stdout",
     "output_type": "stream",
     "text": [
      "Eigenvalues: [5. 2.]\n",
      "Eigenvectors:\n",
      " [[ 0.89442719 -0.70710678]\n",
      " [ 0.4472136   0.70710678]]\n"
     ]
    }
   ],
   "source": [
    "# Exercise 37\n",
    "import numpy as np\n",
    "\n",
    "# Define a 2x2 matrix\n",
    "matrix = np.array([[4, 2],\n",
    "                   [1, 3]])\n",
    "\n",
    "# Compute eigenvalues and eigenvectors\n",
    "eigenvalues, eigenvectors = np.linalg.eig(matrix)\n",
    "\n",
    "print(\"Eigenvalues:\", eigenvalues)\n",
    "print(\"Eigenvectors:\\n\", eigenvectors)\n"
   ]
  },
  {
   "cell_type": "markdown",
   "id": "7dc92bbb",
   "metadata": {},
   "source": [
    "\n",
    "---\n",
    "\n",
    "### Exercise 38:\n",
    "Solve a system of linear equations using NumPy.\n"
   ]
  },
  {
   "cell_type": "code",
   "execution_count": 86,
   "id": "9aad2d7e",
   "metadata": {},
   "outputs": [
    {
     "name": "stdout",
     "output_type": "stream",
     "text": [
      "Solution (x, y): [1. 2.]\n"
     ]
    }
   ],
   "source": [
    "# Exercise 38\n",
    "import numpy as np\n",
    "\n",
    "# Coefficient matrix\n",
    "A = np.array([[2, 3],\n",
    "              [3, 4]])\n",
    "\n",
    "# Right-hand side\n",
    "B = np.array([8, 11])\n",
    "\n",
    "# Solve the system\n",
    "X = np.linalg.solve(A, B)\n",
    "\n",
    "print(\"Solution (x, y):\", X)\n"
   ]
  },
  {
   "cell_type": "markdown",
   "id": "4f146ae7",
   "metadata": {},
   "source": [
    "\n",
    "---\n",
    "\n",
    "### Exercise 39:\n",
    "Add Gaussian noise to a NumPy array.\n"
   ]
  },
  {
   "cell_type": "code",
   "execution_count": 88,
   "id": "1162c82d",
   "metadata": {},
   "outputs": [
    {
     "name": "stdout",
     "output_type": "stream",
     "text": [
      "Original data: [1. 2. 3. 4. 5.]\n",
      "Noise: [-0.00333713  0.03568347  0.03176367 -0.00843199 -0.075958  ]\n",
      "Noisy data: [0.99666287 2.03568347 3.03176367 3.99156801 4.924042  ]\n"
     ]
    }
   ],
   "source": [
    "# Exercise 39\n",
    "import numpy as np\n",
    "\n",
    "# Example original array\n",
    "data = np.array([1.0, 2.0, 3.0, 4.0, 5.0])\n",
    "\n",
    "# Parameters for Gaussian noise\n",
    "mean = 0\n",
    "std_dev = 0.1  # standard deviation of the noise\n",
    "\n",
    "# Generate Gaussian noise\n",
    "noise = np.random.normal(mean, std_dev, data.shape)\n",
    "\n",
    "# Add the noise to the original data\n",
    "noisy_data = data + noise\n",
    "\n",
    "print(\"Original data:\", data)\n",
    "print(\"Noise:\", noise)\n",
    "print(\"Noisy data:\", noisy_data)\n"
   ]
  },
  {
   "cell_type": "markdown",
   "id": "24f6d12f",
   "metadata": {},
   "source": [
    "\n",
    "---\n",
    "\n",
    "### Exercise 40:\n",
    "Create a 4x4 matrix and extract the diagonal elements.\n"
   ]
  },
  {
   "cell_type": "code",
   "execution_count": 90,
   "id": "228d823c",
   "metadata": {},
   "outputs": [
    {
     "name": "stdout",
     "output_type": "stream",
     "text": [
      "Matrix:\n",
      " [[10  2  3  4]\n",
      " [ 5 20  7  8]\n",
      " [ 9 10 30 12]\n",
      " [13 14 15 40]]\n",
      "Diagonal elements: [10 20 30 40]\n"
     ]
    }
   ],
   "source": [
    "# Exercise 40\n",
    "import numpy as np\n",
    "\n",
    "# Create a 4x4 matrix\n",
    "matrix = np.array([\n",
    "    [10, 2, 3, 4],\n",
    "    [5, 20, 7, 8],\n",
    "    [9, 10, 30, 12],\n",
    "    [13, 14, 15, 40]\n",
    "])\n",
    "\n",
    "# Extract the diagonal elements\n",
    "diagonal = np.diag(matrix)\n",
    "\n",
    "print(\"Matrix:\\n\", matrix)\n",
    "print(\"Diagonal elements:\", diagonal)\n"
   ]
  },
  {
   "cell_type": "markdown",
   "id": "6fe4e0e1",
   "metadata": {},
   "source": [
    "\n",
    "---\n",
    "\n",
    "### Exercise 41:\n",
    "Generate a NumPy array of 100 random values and clip the values to a range between 10 and 50.\n"
   ]
  },
  {
   "cell_type": "code",
   "execution_count": 92,
   "id": "250c818c",
   "metadata": {},
   "outputs": [
    {
     "name": "stdout",
     "output_type": "stream",
     "text": [
      "Original data (first 10): [24.07144619 69.77302223 42.7585582  -9.8850192   0.8807057  22.88520471\n",
      " 43.03245123 43.30318477 27.20196469  3.70039934]\n",
      "Clipped data (first 10): [24.07144619 50.         42.7585582  10.         10.         22.88520471\n",
      " 43.03245123 43.30318477 27.20196469 10.        ]\n"
     ]
    }
   ],
   "source": [
    "# Exercise 41\n",
    "import numpy as np\n",
    "\n",
    "# Generate an array of 100 random values (e.g., from a normal distribution)\n",
    "data = np.random.randn(100) * 20 + 30  # mean=30, std=20 (to get a wider range)\n",
    "\n",
    "# Clip values to the range [10, 50]\n",
    "clipped_data = np.clip(data, 10, 50)\n",
    "\n",
    "print(\"Original data (first 10):\", data[:10])\n",
    "print(\"Clipped data (first 10):\", clipped_data[:10])\n"
   ]
  },
  {
   "cell_type": "markdown",
   "id": "0aa4963a",
   "metadata": {},
   "source": [
    "\n",
    "---\n",
    "\n",
    "### Exercise 42:\n",
    "Create a 2D NumPy array and replace all negative values with zero.\n"
   ]
  },
  {
   "cell_type": "code",
   "execution_count": 94,
   "id": "c33cf5e2",
   "metadata": {},
   "outputs": [
    {
     "name": "stdout",
     "output_type": "stream",
     "text": [
      "Modified array:\n",
      " [[5 0 7]\n",
      " [0 2 0]\n",
      " [4 0 9]]\n"
     ]
    }
   ],
   "source": [
    "# Exercise 42\n",
    "import numpy as np\n",
    "\n",
    "# Create a 2D NumPy array with both positive and negative values\n",
    "array = np.array([\n",
    "    [5, -3, 7],\n",
    "    [-1, 2, -6],\n",
    "    [4, -2, 9]\n",
    "])\n",
    "\n",
    "# Replace all negative values with zero\n",
    "array[array < 0] = 0\n",
    "\n",
    "print(\"Modified array:\\n\", array)\n"
   ]
  },
  {
   "cell_type": "markdown",
   "id": "9902ee70",
   "metadata": {},
   "source": [
    "\n",
    "---\n",
    "\n",
    "### Exercise 43:\n",
    "Find the inner and outer products of two NumPy arrays.\n"
   ]
  },
  {
   "cell_type": "code",
   "execution_count": 96,
   "id": "36f488c8",
   "metadata": {},
   "outputs": [
    {
     "name": "stdout",
     "output_type": "stream",
     "text": [
      "Array a: [1 2 3]\n",
      "Array b: [4 5 6]\n",
      "Inner product: 32\n",
      "Outer product:\n",
      " [[ 4  5  6]\n",
      " [ 8 10 12]\n",
      " [12 15 18]]\n"
     ]
    }
   ],
   "source": [
    "# Exercise 43\n",
    "import numpy as np\n",
    "\n",
    "# Define two 1D NumPy arrays\n",
    "a = np.array([1, 2, 3])\n",
    "b = np.array([4, 5, 6])\n",
    "\n",
    "# Inner product (dot product)\n",
    "inner_product = np.inner(a, b)\n",
    "\n",
    "# Outer product\n",
    "outer_product = np.outer(a, b)\n",
    "\n",
    "print(\"Array a:\", a)\n",
    "print(\"Array b:\", b)\n",
    "print(\"Inner product:\", inner_product)\n",
    "print(\"Outer product:\\n\", outer_product)\n"
   ]
  },
  {
   "cell_type": "markdown",
   "id": "7dce9fa3",
   "metadata": {},
   "source": [
    "\n",
    "---\n",
    "\n",
    "### Exercise 44:\n",
    "Calculate the pairwise distances between points in a NumPy array.\n"
   ]
  },
  {
   "cell_type": "code",
   "execution_count": 98,
   "id": "94067655",
   "metadata": {},
   "outputs": [
    {
     "name": "stdout",
     "output_type": "stream",
     "text": [
      "Points:\n",
      " [[0 0]\n",
      " [1 0]\n",
      " [0 1]]\n",
      "Pairwise distance matrix:\n",
      " [[0.         1.         1.        ]\n",
      " [1.         0.         1.41421356]\n",
      " [1.         1.41421356 0.        ]]\n"
     ]
    }
   ],
   "source": [
    "# Exercise 44\n",
    "import numpy as np\n",
    "from scipy.spatial.distance import pdist, squareform\n",
    "\n",
    "# Create a NumPy array of points (each row is a point)\n",
    "points = np.array([\n",
    "    [0, 0],\n",
    "    [1, 0],\n",
    "    [0, 1]\n",
    "])\n",
    "\n",
    "# Compute pairwise distances\n",
    "distances = squareform(pdist(points))\n",
    "\n",
    "print(\"Points:\\n\", points)\n",
    "print(\"Pairwise distance matrix:\\n\", distances)\n"
   ]
  },
  {
   "cell_type": "markdown",
   "id": "d4b272d3",
   "metadata": {},
   "source": [
    "\n",
    "---\n",
    "\n",
    "### Exercise 45:\n",
    "Create a structured NumPy array with fields for `name`, `age`, and `height`.\n"
   ]
  },
  {
   "cell_type": "code",
   "execution_count": 100,
   "id": "9b18e4f0",
   "metadata": {},
   "outputs": [
    {
     "name": "stdout",
     "output_type": "stream",
     "text": [
      "All people:\n",
      " [('Alice', 30, 5.5) ('Bob', 25, 6. ) ('Charlie', 35, 5.8)]\n",
      "Names: ['Alice' 'Bob' 'Charlie']\n",
      "Ages: [30 25 35]\n",
      "Heights: [5.5 6.  5.8]\n"
     ]
    }
   ],
   "source": [
    "# Exercise 45\n",
    "import numpy as np\n",
    "\n",
    "# Define the data type with field names and data types\n",
    "person_dtype = np.dtype([\n",
    "    ('name', 'U20'),   # Unicode string of max length 20\n",
    "    ('age', 'i4'),     # 32-bit integer\n",
    "    ('height', 'f4')   # 32-bit float\n",
    "])\n",
    "\n",
    "# Create a structured array\n",
    "people = np.array([\n",
    "    ('Alice', 30, 5.5),\n",
    "    ('Bob', 25, 6.0),\n",
    "    ('Charlie', 35, 5.8)\n",
    "], dtype=person_dtype)\n",
    "\n",
    "# Accessing fields\n",
    "print(\"All people:\\n\", people)\n",
    "print(\"Names:\", people['name'])\n",
    "print(\"Ages:\", people['age'])\n",
    "print(\"Heights:\", people['height'])\n"
   ]
  },
  {
   "cell_type": "markdown",
   "id": "577f3e80",
   "metadata": {},
   "source": [
    "\n",
    "---\n",
    "\n",
    "### Exercise 46:\n",
    "Create a 5x5 matrix of random integers and count the occurrences of each unique value.\n"
   ]
  },
  {
   "cell_type": "code",
   "execution_count": 102,
   "id": "639b01fd",
   "metadata": {},
   "outputs": [
    {
     "name": "stdout",
     "output_type": "stream",
     "text": [
      "Matrix:\n",
      " [[5 3 2 2 6]\n",
      " [7 6 6 7 2]\n",
      " [4 6 7 9 7]\n",
      " [5 9 7 4 4]\n",
      " [2 5 2 6 0]]\n",
      "Value counts: {0: 1, 2: 5, 3: 1, 4: 3, 5: 3, 6: 5, 7: 5, 9: 2}\n"
     ]
    }
   ],
   "source": [
    "# Exercise 46\n",
    "import numpy as np\n",
    "\n",
    "# Create a 5x5 matrix of random integers between 0 and 9\n",
    "matrix = np.random.randint(0, 10, size=(5, 5))\n",
    "\n",
    "# Count occurrences of each unique value\n",
    "unique_values, counts = np.unique(matrix, return_counts=True)\n",
    "\n",
    "# Combine into a dictionary (optional)\n",
    "value_counts = dict(zip(unique_values, counts))\n",
    "\n",
    "print(\"Matrix:\\n\", matrix)\n",
    "print(\"Value counts:\", value_counts)\n"
   ]
  },
  {
   "cell_type": "markdown",
   "id": "e716555f",
   "metadata": {},
   "source": [
    "\n",
    "---\n",
    "\n",
    "### Exercise 47:\n",
    "Generate a random 3x3 NumPy array and subtract the mean of each row from the corresponding row.\n"
   ]
  },
  {
   "cell_type": "code",
   "execution_count": 104,
   "id": "03747d27",
   "metadata": {},
   "outputs": [
    {
     "name": "stdout",
     "output_type": "stream",
     "text": [
      "Original array:\n",
      " [[0.95648247 0.96738237 0.16498224]\n",
      " [0.05939349 0.36214383 0.48851094]\n",
      " [0.62857185 0.77438962 0.06116692]]\n",
      "Row means:\n",
      " [[0.69628236]\n",
      " [0.30334942]\n",
      " [0.4880428 ]]\n",
      "Result after subtracting row means:\n",
      " [[ 0.26020011  0.27110001 -0.53130012]\n",
      " [-0.24395593  0.05879441  0.18516152]\n",
      " [ 0.14052906  0.28634682 -0.42687588]]\n"
     ]
    }
   ],
   "source": [
    "# Exercise 47\n",
    "import numpy as np\n",
    "\n",
    "# Generate a random 3x3 array (values between 0 and 1)\n",
    "arr = np.random.rand(3, 3)\n",
    "\n",
    "# Calculate the mean of each row (keepdims=True to allow broadcasting)\n",
    "row_means = arr.mean(axis=1, keepdims=True)\n",
    "\n",
    "# Subtract the row mean from each element in the row\n",
    "result = arr - row_means\n",
    "\n",
    "print(\"Original array:\\n\", arr)\n",
    "print(\"Row means:\\n\", row_means)\n",
    "print(\"Result after subtracting row means:\\n\", result)\n"
   ]
  },
  {
   "cell_type": "markdown",
   "id": "89148fb1",
   "metadata": {},
   "source": [
    "\n",
    "---\n",
    "\n",
    "### Exercise 48:\n",
    "Create a NumPy array of random integers and check if any of the values are greater than 50.\n"
   ]
  },
  {
   "cell_type": "code",
   "execution_count": 106,
   "id": "d329ca63",
   "metadata": {},
   "outputs": [
    {
     "name": "stdout",
     "output_type": "stream",
     "text": [
      "Array: [ 3 26 47 30 30 47 87  7 56 31 17 96 43 20 86 10 25 32 70 34]\n",
      "Any values greater than 50? True\n"
     ]
    }
   ],
   "source": [
    "# Exercise 48\n",
    "import numpy as np\n",
    "\n",
    "# Create a random integer array, for example with values between 0 and 100\n",
    "arr = np.random.randint(0, 100, size=20)\n",
    "\n",
    "# Check if any value is greater than 50\n",
    "any_greater_than_50 = np.any(arr > 50)\n",
    "\n",
    "print(\"Array:\", arr)\n",
    "print(\"Any values greater than 50?\", any_greater_than_50)\n"
   ]
  },
  {
   "cell_type": "markdown",
   "id": "806622f5",
   "metadata": {},
   "source": [
    "\n",
    "---\n",
    "\n",
    "### Exercise 49:\n",
    "Calculate the moving average of a 1D NumPy array.\n"
   ]
  },
  {
   "cell_type": "code",
   "execution_count": 108,
   "id": "866232ff",
   "metadata": {},
   "outputs": [
    {
     "name": "stdout",
     "output_type": "stream",
     "text": [
      "Original data: [1 2 3 4 5 6 7 8 9]\n",
      "Moving average (window size 3): [2. 3. 4. 5. 6. 7. 8.]\n"
     ]
    }
   ],
   "source": [
    "# Exercise 49\n",
    "import numpy as np\n",
    "\n",
    "# Example 1D array\n",
    "data = np.array([1, 2, 3, 4, 5, 6, 7, 8, 9])\n",
    "\n",
    "# Window size\n",
    "n = 3\n",
    "\n",
    "# Create the window (equal weights summing to 1)\n",
    "window = np.ones(n) / n\n",
    "\n",
    "# Compute moving average using convolution, mode='valid' returns only positions with full overlap\n",
    "moving_avg = np.convolve(data, window, mode='valid')\n",
    "\n",
    "print(\"Original data:\", data)\n",
    "print(f\"Moving average (window size {n}):\", moving_avg)\n"
   ]
  },
  {
   "cell_type": "markdown",
   "id": "9313446b",
   "metadata": {},
   "source": [
    "\n",
    "---\n",
    "\n",
    "### Exercise 50:\n",
    "Find the Pearson correlation coefficient between two NumPy arrays.\n"
   ]
  },
  {
   "cell_type": "code",
   "execution_count": 110,
   "id": "09c184ab",
   "metadata": {},
   "outputs": [
    {
     "name": "stdout",
     "output_type": "stream",
     "text": [
      "Pearson correlation coefficient: 0.9999999999999999\n"
     ]
    }
   ],
   "source": [
    "# Exercise 50\n",
    "import numpy as np\n",
    "\n",
    "# Two example 1D arrays\n",
    "x = np.array([1, 2, 3, 4, 5])\n",
    "y = np.array([2, 4, 6, 8, 10])\n",
    "\n",
    "# Calculate Pearson correlation coefficient matrix\n",
    "corr_matrix = np.corrcoef(x, y)\n",
    "\n",
    "# Extract the correlation coefficient between x and y\n",
    "pearson_corr = corr_matrix[0, 1]\n",
    "\n",
    "print(\"Pearson correlation coefficient:\", pearson_corr)\n"
   ]
  },
  {
   "cell_type": "markdown",
   "id": "8ee11395",
   "metadata": {},
   "source": [
    "\n",
    "---\n",
    "\n",
    "### Exercise 51:\n",
    "Convert a NumPy array of radians to degrees.\n"
   ]
  },
  {
   "cell_type": "code",
   "execution_count": 112,
   "id": "34ac5b8c",
   "metadata": {},
   "outputs": [
    {
     "name": "stdout",
     "output_type": "stream",
     "text": [
      "Radians: [0.         0.52359878 0.78539816 1.57079633 3.14159265]\n",
      "Degrees: [  0.  30.  45.  90. 180.]\n"
     ]
    }
   ],
   "source": [
    "# Exercise 51\n",
    "import numpy as np\n",
    "\n",
    "# Example array of radians\n",
    "radians = np.array([0, np.pi/6, np.pi/4, np.pi/2, np.pi])\n",
    "\n",
    "# Convert to degrees\n",
    "degrees = np.degrees(radians)\n",
    "\n",
    "print(\"Radians:\", radians)\n",
    "print(\"Degrees:\", degrees)\n"
   ]
  },
  {
   "cell_type": "markdown",
   "id": "f4fd9563",
   "metadata": {},
   "source": [
    "\n",
    "---\n",
    "\n",
    "### Exercise 52:\n",
    "Create a random NumPy array and compute its variance and standard deviation.\n"
   ]
  },
  {
   "cell_type": "code",
   "execution_count": 114,
   "id": "0559791a",
   "metadata": {},
   "outputs": [
    {
     "name": "stdout",
     "output_type": "stream",
     "text": [
      "Array: [0.22017653 0.07950731 0.53699998 0.6549913  0.8230331  0.45299246\n",
      " 0.90133477 0.4996368  0.29860926 0.16555788]\n",
      "Variance: 0.06870654641071547\n",
      "Standard Deviation: 0.2621193362015009\n"
     ]
    }
   ],
   "source": [
    "# Exercise 52\n",
    "import numpy as np\n",
    "\n",
    "# Create a random array of size 10 (values between 0 and 1)\n",
    "arr = np.random.rand(10)\n",
    "\n",
    "# Compute variance\n",
    "variance = np.var(arr)\n",
    "\n",
    "# Compute standard deviation\n",
    "std_dev = np.std(arr)\n",
    "\n",
    "print(\"Array:\", arr)\n",
    "print(\"Variance:\", variance)\n",
    "print(\"Standard Deviation:\", std_dev)\n"
   ]
  },
  {
   "cell_type": "markdown",
   "id": "b5bed93d",
   "metadata": {},
   "source": [
    "\n",
    "---\n",
    "\n",
    "### Exercise 53:\n",
    "Create a 2D NumPy array and find the indices of the maximum values along each axis.\n"
   ]
  },
  {
   "cell_type": "code",
   "execution_count": 116,
   "id": "37168529",
   "metadata": {},
   "outputs": [
    {
     "name": "stdout",
     "output_type": "stream",
     "text": [
      "Array:\n",
      " [[3 5 1]\n",
      " [7 2 9]\n",
      " [4 6 8]]\n",
      "Indices of max values in each row: [1 2 2]\n",
      "Indices of max values in each column: [1 2 1]\n"
     ]
    }
   ],
   "source": [
    "# Exercise 53\n",
    "import numpy as np\n",
    "\n",
    "# Create a 2D array\n",
    "arr = np.array([\n",
    "    [3, 5, 1],\n",
    "    [7, 2, 9],\n",
    "    [4, 6, 8]\n",
    "])\n",
    "\n",
    "# Indices of max values along each row (axis=1)\n",
    "max_indices_rows = np.argmax(arr, axis=1)\n",
    "\n",
    "# Indices of max values along each column (axis=0)\n",
    "max_indices_cols = np.argmax(arr, axis=0)\n",
    "\n",
    "print(\"Array:\\n\", arr)\n",
    "print(\"Indices of max values in each row:\", max_indices_rows)\n",
    "print(\"Indices of max values in each column:\", max_indices_cols)\n"
   ]
  },
  {
   "cell_type": "markdown",
   "id": "fd672293",
   "metadata": {},
   "source": [
    "\n",
    "---\n",
    "\n",
    "### Exercise 54:\n",
    "Compute the inverse of a 2x2 NumPy matrix.\n"
   ]
  },
  {
   "cell_type": "code",
   "execution_count": 118,
   "id": "d9eebfee",
   "metadata": {},
   "outputs": [
    {
     "name": "stdout",
     "output_type": "stream",
     "text": [
      "Original matrix:\n",
      " [[4 7]\n",
      " [2 6]]\n",
      "Inverse matrix:\n",
      " [[ 0.6 -0.7]\n",
      " [-0.2  0.4]]\n"
     ]
    }
   ],
   "source": [
    "# Exercise 54\n",
    "import numpy as np\n",
    "\n",
    "# Define a 2x2 matrix\n",
    "matrix = np.array([[4, 7],\n",
    "                   [2, 6]])\n",
    "\n",
    "# Compute the inverse\n",
    "inverse_matrix = np.linalg.inv(matrix)\n",
    "\n",
    "print(\"Original matrix:\\n\", matrix)\n",
    "print(\"Inverse matrix:\\n\", inverse_matrix)\n"
   ]
  },
  {
   "cell_type": "markdown",
   "id": "d635d87b",
   "metadata": {},
   "source": [
    "\n",
    "---\n",
    "\n",
    "### Exercise 55:\n",
    "Create a NumPy array of 10 random values and standardize it (mean 0, variance 1).\n"
   ]
  },
  {
   "cell_type": "code",
   "execution_count": 120,
   "id": "dc8ffa7d",
   "metadata": {},
   "outputs": [
    {
     "name": "stdout",
     "output_type": "stream",
     "text": [
      "Original array: [0.63871535 0.08035161 0.46242032 0.8584234  0.34486156 0.96190101\n",
      " 0.57537965 0.64674199 0.17824356 0.58343098]\n",
      "Standardized array: [ 0.40243929 -1.7240952  -0.26898229  1.23919987 -0.71670612  1.63329548\n",
      "  0.16122457  0.43300884 -1.35127261  0.19188816]\n",
      "Mean of standardized array: 1.609823385706477e-16\n",
      "Std deviation of standardized array: 0.9999999999999998\n"
     ]
    }
   ],
   "source": [
    "# Exercise 55\n",
    "import numpy as np\n",
    "\n",
    "# Generate 10 random values\n",
    "arr = np.random.rand(10)\n",
    "\n",
    "# Standardize the array (mean 0, variance 1)\n",
    "standardized_arr = (arr - arr.mean()) / arr.std()\n",
    "\n",
    "print(\"Original array:\", arr)\n",
    "print(\"Standardized array:\", standardized_arr)\n",
    "print(\"Mean of standardized array:\", standardized_arr.mean())\n",
    "print(\"Std deviation of standardized array:\", standardized_arr.std())\n"
   ]
  },
  {
   "cell_type": "markdown",
   "id": "6db1e281",
   "metadata": {},
   "source": [
    "\n",
    "---\n",
    "\n",
    "### Exercise 56:\n",
    "Perform element-wise addition and subtraction on two NumPy arrays.\n"
   ]
  },
  {
   "cell_type": "code",
   "execution_count": 122,
   "id": "e8d4d852",
   "metadata": {},
   "outputs": [
    {
     "name": "stdout",
     "output_type": "stream",
     "text": [
      "Array a: [1 2 3 4]\n",
      "Array b: [5 6 7 8]\n",
      "Addition (a + b): [ 6  8 10 12]\n",
      "Subtraction (a - b): [-4 -4 -4 -4]\n"
     ]
    }
   ],
   "source": [
    "# Exercise 56\n",
    "import numpy as np\n",
    "\n",
    "# Define two arrays of the same shape\n",
    "a = np.array([1, 2, 3, 4])\n",
    "b = np.array([5, 6, 7, 8])\n",
    "\n",
    "# Element-wise addition\n",
    "add_result = a + b\n",
    "\n",
    "# Element-wise subtraction\n",
    "sub_result = a - b\n",
    "\n",
    "print(\"Array a:\", a)\n",
    "print(\"Array b:\", b)\n",
    "print(\"Addition (a + b):\", add_result)\n",
    "print(\"Subtraction (a - b):\", sub_result)\n"
   ]
  },
  {
   "cell_type": "markdown",
   "id": "843ba956",
   "metadata": {},
   "source": [
    "\n",
    "---\n",
    "\n",
    "### Exercise 57:\n",
    "Create a NumPy array of random values and find the maximum element's index.\n"
   ]
  },
  {
   "cell_type": "code",
   "execution_count": 124,
   "id": "e4cbc318",
   "metadata": {},
   "outputs": [
    {
     "name": "stdout",
     "output_type": "stream",
     "text": [
      "Array: [0.56690302 0.69968805 0.43133736 0.83494803 0.21561388 0.33219945\n",
      " 0.23661465 0.36863688 0.31555214 0.57615   ]\n",
      "Index of maximum element: 3\n",
      "Maximum element: 0.8349480347249812\n"
     ]
    }
   ],
   "source": [
    "# Exercise 57\n",
    "import numpy as np\n",
    "\n",
    "# Create an array of 10 random values\n",
    "arr = np.random.rand(10)\n",
    "\n",
    "# Find the index of the maximum element\n",
    "max_index = np.argmax(arr)\n",
    "\n",
    "print(\"Array:\", arr)\n",
    "print(\"Index of maximum element:\", max_index)\n",
    "print(\"Maximum element:\", arr[max_index])"
   ]
  },
  {
   "cell_type": "markdown",
   "id": "e8356250",
   "metadata": {},
   "source": [
    "\n",
    "---\n",
    "\n",
    "### Exercise 58:\n",
    "Create a 3x3 NumPy array and rotate it by 90 degrees.\n"
   ]
  },
  {
   "cell_type": "code",
   "execution_count": 126,
   "id": "f80c6616",
   "metadata": {},
   "outputs": [
    {
     "name": "stdout",
     "output_type": "stream",
     "text": [
      "Original array:\n",
      " [[1 2 3]\n",
      " [4 5 6]\n",
      " [7 8 9]]\n",
      "Rotated array (90 degrees):\n",
      " [[3 6 9]\n",
      " [2 5 8]\n",
      " [1 4 7]]\n"
     ]
    }
   ],
   "source": [
    "# Exercise 58\n",
    "import numpy as np\n",
    "\n",
    "# Create a 3x3 array\n",
    "arr = np.array([\n",
    "    [1, 2, 3],\n",
    "    [4, 5, 6],\n",
    "    [7, 8, 9]\n",
    "])\n",
    "\n",
    "# Rotate the array by 90 degrees counter-clockwise\n",
    "rotated_arr = np.rot90(arr)\n",
    "\n",
    "print(\"Original array:\\n\", arr)\n",
    "print(\"Rotated array (90 degrees):\\n\", rotated_arr)\n"
   ]
  },
  {
   "cell_type": "markdown",
   "id": "5bdbf96d",
   "metadata": {},
   "source": [
    "\n",
    "---\n",
    "\n",
    "### Exercise 59:\n",
    "Compute the Frobenius norm of a matrix.\n"
   ]
  },
  {
   "cell_type": "code",
   "execution_count": 128,
   "id": "bb81b41a",
   "metadata": {},
   "outputs": [
    {
     "name": "stdout",
     "output_type": "stream",
     "text": [
      "Matrix:\n",
      " [[1 2]\n",
      " [3 4]]\n",
      "Frobenius norm: 5.477225575051661\n"
     ]
    }
   ],
   "source": [
    "# Exercise 59\n",
    "import numpy as np\n",
    "\n",
    "# Define a matrix\n",
    "matrix = np.array([\n",
    "    [1, 2],\n",
    "    [3, 4]\n",
    "])\n",
    "\n",
    "# Compute Frobenius norm\n",
    "fro_norm = np.linalg.norm(matrix, 'fro')\n",
    "\n",
    "print(\"Matrix:\\n\", matrix)\n",
    "print(\"Frobenius norm:\", fro_norm)\n"
   ]
  },
  {
   "cell_type": "markdown",
   "id": "9388b0db",
   "metadata": {},
   "source": [
    "\n",
    "---\n",
    "\n",
    "### Exercise 60:\n",
    "Create a 3D NumPy array and slice out a subarray.\n"
   ]
  },
  {
   "cell_type": "code",
   "execution_count": 130,
   "id": "f051d3a2",
   "metadata": {},
   "outputs": [
    {
     "name": "stdout",
     "output_type": "stream",
     "text": [
      "Original array shape: (3, 4, 5)\n",
      "Original array:\n",
      " [[[ 0  1  2  3  4]\n",
      "  [ 5  6  7  8  9]\n",
      "  [10 11 12 13 14]\n",
      "  [15 16 17 18 19]]\n",
      "\n",
      " [[20 21 22 23 24]\n",
      "  [25 26 27 28 29]\n",
      "  [30 31 32 33 34]\n",
      "  [35 36 37 38 39]]\n",
      "\n",
      " [[40 41 42 43 44]\n",
      "  [45 46 47 48 49]\n",
      "  [50 51 52 53 54]\n",
      "  [55 56 57 58 59]]]\n",
      "\n",
      "Sliced subarray shape: (2, 2, 3)\n",
      "Sliced subarray:\n",
      " [[[27 28 29]\n",
      "  [32 33 34]]\n",
      "\n",
      " [[47 48 49]\n",
      "  [52 53 54]]]\n"
     ]
    }
   ],
   "source": [
    "# Exercise 60\n",
    "import numpy as np\n",
    "\n",
    "# Create a 3D array of shape (3, 4, 5)\n",
    "arr = np.arange(3*4*5).reshape(3, 4, 5)\n",
    "\n",
    "print(\"Original array shape:\", arr.shape)\n",
    "print(\"Original array:\\n\", arr)\n",
    "\n",
    "# Slice out a subarray: \n",
    "# For example, take all elements from:\n",
    "# - first dimension: index 1 to 2 (inclusive)\n",
    "# - second dimension: index 1 to 3 (exclusive)\n",
    "# - third dimension: index 2 to 5 (exclusive)\n",
    "subarray = arr[1:3, 1:3, 2:5]\n",
    "\n",
    "print(\"\\nSliced subarray shape:\", subarray.shape)\n",
    "print(\"Sliced subarray:\\n\", subarray)\n"
   ]
  },
  {
   "cell_type": "markdown",
   "id": "9cb79001",
   "metadata": {},
   "source": [
    "\n",
    "---"
   ]
  }
 ],
 "metadata": {
  "kernelspec": {
   "display_name": "Python [conda env:base] *",
   "language": "python",
   "name": "conda-base-py"
  },
  "language_info": {
   "codemirror_mode": {
    "name": "ipython",
    "version": 3
   },
   "file_extension": ".py",
   "mimetype": "text/x-python",
   "name": "python",
   "nbconvert_exporter": "python",
   "pygments_lexer": "ipython3",
   "version": "3.12.4"
  }
 },
 "nbformat": 4,
 "nbformat_minor": 5
}
